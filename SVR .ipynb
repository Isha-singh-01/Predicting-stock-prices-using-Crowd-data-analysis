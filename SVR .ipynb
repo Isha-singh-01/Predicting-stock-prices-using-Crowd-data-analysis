{
 "cells": [
  {
   "cell_type": "code",
   "execution_count": 1,
   "id": "07a6a40c",
   "metadata": {},
   "outputs": [],
   "source": [
    "import numpy as np\n",
    "import pandas as pd\n",
    "import matplotlib.pyplot as plt\n",
    "import seaborn as sns"
   ]
  },
  {
   "cell_type": "code",
   "execution_count": 2,
   "id": "1eb55e3b",
   "metadata": {},
   "outputs": [],
   "source": [
    "Dow_Jones = pd.read_csv('Dow Jones Industrial Average Historical Data.csv')"
   ]
  },
  {
   "cell_type": "code",
   "execution_count": 3,
   "id": "441dacca",
   "metadata": {},
   "outputs": [
    {
     "data": {
      "text/html": [
       "<div>\n",
       "<style scoped>\n",
       "    .dataframe tbody tr th:only-of-type {\n",
       "        vertical-align: middle;\n",
       "    }\n",
       "\n",
       "    .dataframe tbody tr th {\n",
       "        vertical-align: top;\n",
       "    }\n",
       "\n",
       "    .dataframe thead th {\n",
       "        text-align: right;\n",
       "    }\n",
       "</style>\n",
       "<table border=\"1\" class=\"dataframe\">\n",
       "  <thead>\n",
       "    <tr style=\"text-align: right;\">\n",
       "      <th></th>\n",
       "      <th>Date</th>\n",
       "      <th>Price</th>\n",
       "      <th>Open</th>\n",
       "      <th>High</th>\n",
       "      <th>Low</th>\n",
       "      <th>Vol.</th>\n",
       "      <th>Change %</th>\n",
       "    </tr>\n",
       "  </thead>\n",
       "  <tbody>\n",
       "    <tr>\n",
       "      <th>0</th>\n",
       "      <td>Dec 31, 2019</td>\n",
       "      <td>28,538.44</td>\n",
       "      <td>28,414.64</td>\n",
       "      <td>28,547.35</td>\n",
       "      <td>28,376.49</td>\n",
       "      <td>193.34M</td>\n",
       "      <td>0.27%</td>\n",
       "    </tr>\n",
       "    <tr>\n",
       "      <th>1</th>\n",
       "      <td>Dec 30, 2019</td>\n",
       "      <td>28,462.14</td>\n",
       "      <td>28,654.76</td>\n",
       "      <td>28,664.69</td>\n",
       "      <td>28,428.98</td>\n",
       "      <td>185.07M</td>\n",
       "      <td>-0.64%</td>\n",
       "    </tr>\n",
       "    <tr>\n",
       "      <th>2</th>\n",
       "      <td>Dec 27, 2019</td>\n",
       "      <td>28,645.26</td>\n",
       "      <td>28,675.34</td>\n",
       "      <td>28,701.66</td>\n",
       "      <td>28,608.98</td>\n",
       "      <td>184.93M</td>\n",
       "      <td>0.08%</td>\n",
       "    </tr>\n",
       "    <tr>\n",
       "      <th>3</th>\n",
       "      <td>Dec 26, 2019</td>\n",
       "      <td>28,621.39</td>\n",
       "      <td>28,539.46</td>\n",
       "      <td>28,624.10</td>\n",
       "      <td>28,535.15</td>\n",
       "      <td>155.97M</td>\n",
       "      <td>0.37%</td>\n",
       "    </tr>\n",
       "    <tr>\n",
       "      <th>4</th>\n",
       "      <td>Dec 24, 2019</td>\n",
       "      <td>28,515.45</td>\n",
       "      <td>28,572.57</td>\n",
       "      <td>28,576.80</td>\n",
       "      <td>28,503.21</td>\n",
       "      <td>95.29M</td>\n",
       "      <td>-0.13%</td>\n",
       "    </tr>\n",
       "  </tbody>\n",
       "</table>\n",
       "</div>"
      ],
      "text/plain": [
       "           Date      Price       Open       High        Low     Vol. Change %\n",
       "0  Dec 31, 2019  28,538.44  28,414.64  28,547.35  28,376.49  193.34M    0.27%\n",
       "1  Dec 30, 2019  28,462.14  28,654.76  28,664.69  28,428.98  185.07M   -0.64%\n",
       "2  Dec 27, 2019  28,645.26  28,675.34  28,701.66  28,608.98  184.93M    0.08%\n",
       "3  Dec 26, 2019  28,621.39  28,539.46  28,624.10  28,535.15  155.97M    0.37%\n",
       "4  Dec 24, 2019  28,515.45  28,572.57  28,576.80  28,503.21   95.29M   -0.13%"
      ]
     },
     "execution_count": 3,
     "metadata": {},
     "output_type": "execute_result"
    }
   ],
   "source": [
    "Dow_Jones.head()"
   ]
  },
  {
   "cell_type": "code",
   "execution_count": 4,
   "id": "65f50ca9",
   "metadata": {},
   "outputs": [],
   "source": [
    "# Replacing the Price Column of the dataset \n",
    "Dow_Jones['Price'] = Dow_Jones['Price'].apply(lambda x: x.replace(',',''))\n",
    "\n",
    "# Replacing the Open Column of the dataset \n",
    "Dow_Jones['Open'] = Dow_Jones['Open'].apply(lambda x: x.replace(',',''))\n",
    "\n",
    "# Replacing the High Column of the dataset \n",
    "Dow_Jones['High'] = Dow_Jones['High'].apply(lambda x: x.replace(',',''))\n",
    "\n",
    "# Replacing the Low Column of the dataset \n",
    "Dow_Jones['Low'] =Dow_Jones['Low'].apply(lambda x: x.replace(',',''))"
   ]
  },
  {
   "cell_type": "code",
   "execution_count": 5,
   "id": "c175de25",
   "metadata": {},
   "outputs": [],
   "source": [
    "# Spliting the Vol. Feature Eg. 193.4M to 193.4\n",
    "Dow_Jones['Vol.'] = Dow_Jones['Vol.'].str.split(\"M\", n = 1, expand = True)"
   ]
  },
  {
   "cell_type": "code",
   "execution_count": 6,
   "id": "2f804857",
   "metadata": {},
   "outputs": [],
   "source": [
    "# Replacing the null values to Zero\n",
    "Dow_Jones['Vol.'] = Dow_Jones['Vol.'].replace(to_replace =[\"-\"], value = 0)"
   ]
  },
  {
   "cell_type": "code",
   "execution_count": 7,
   "id": "33733ea9",
   "metadata": {},
   "outputs": [],
   "source": [
    "# Conerting the format of the Price Column from object <--> Float\n",
    "Dow_Jones['Price'] = Dow_Jones['Price'].astype(float)\n",
    "\n",
    "# Conerting the format of the Open Column from object <--> Float\n",
    "Dow_Jones['Open'] = Dow_Jones['Open'].astype(float)\n",
    "\n",
    "# Conerting the format of the High Column from object <--> Float\n",
    "Dow_Jones['High'] = Dow_Jones['High'].astype(float)\n",
    "\n",
    "# Conerting the format of the low Column from object <--> Float\n",
    "Dow_Jones['Low'] = Dow_Jones['Low'].astype(float)\n",
    "\n",
    "# Conerting the format of the Vol Column from object <--> float\n",
    "Dow_Jones['Vol.'] = Dow_Jones['Vol.'].astype(float)\n",
    "\n",
    "# Conerting the format of the Change% Column from object <--> str\n",
    "Dow_Jones['Change %'] = Dow_Jones['Change %'].astype(str)"
   ]
  },
  {
   "cell_type": "code",
   "execution_count": 8,
   "id": "30873059",
   "metadata": {},
   "outputs": [
    {
     "data": {
      "text/plain": [
       "Date         object\n",
       "Price       float64\n",
       "Open        float64\n",
       "High        float64\n",
       "Low         float64\n",
       "Vol.        float64\n",
       "Change %     object\n",
       "dtype: object"
      ]
     },
     "execution_count": 8,
     "metadata": {},
     "output_type": "execute_result"
    }
   ],
   "source": [
    "Dow_Jones.dtypes"
   ]
  },
  {
   "cell_type": "code",
   "execution_count": 9,
   "id": "40d4b253",
   "metadata": {},
   "outputs": [],
   "source": [
    "X = Dow_Jones[['Open','Low','High','Vol.']]\n",
    "y = Dow_Jones['Price']"
   ]
  },
  {
   "cell_type": "code",
   "execution_count": 10,
   "id": "19c7c6bc",
   "metadata": {},
   "outputs": [],
   "source": [
    "from sklearn.model_selection import train_test_split"
   ]
  },
  {
   "cell_type": "code",
   "execution_count": 11,
   "id": "e2f1418b",
   "metadata": {},
   "outputs": [],
   "source": [
    "X_train, X_test, y_train, y_test = train_test_split(X, y, test_size=0.2, random_state=0)"
   ]
  },
  {
   "cell_type": "code",
   "execution_count": 12,
   "id": "d6c7f69a",
   "metadata": {},
   "outputs": [],
   "source": [
    "#Importing the required Libraries\n",
    "\n",
    "from sklearn import svm\n",
    "from sklearn.metrics import accuracy_score\n",
    "import warnings\n",
    "warnings.filterwarnings('ignore')"
   ]
  },
  {
   "cell_type": "code",
   "execution_count": 13,
   "id": "5cac4ecf",
   "metadata": {},
   "outputs": [],
   "source": [
    "# Create Linear SVM object\n",
    "support = svm.LinearSVR(random_state=20)"
   ]
  },
  {
   "cell_type": "code",
   "execution_count": 14,
   "id": "b64a0645",
   "metadata": {},
   "outputs": [],
   "source": [
    "support.fit(X_train, y_train)\n",
    "Y_pred = support.predict(X_test)"
   ]
  },
  {
   "cell_type": "code",
   "execution_count": 15,
   "id": "55f37284",
   "metadata": {},
   "outputs": [
    {
     "name": "stdout",
     "output_type": "stream",
     "text": [
      "Mean Absolute Error : 53.00768508420614\n",
      "Mean Squared Error : 4767.172269809733\n",
      "Root Mean Squared Error : 69.04471210606742\n"
     ]
    }
   ],
   "source": [
    "#Choice of metrics influences how the performance of machine learning algorithms is measured and compared.\n",
    "from sklearn import metrics\n",
    "\n",
    "# calculating the mean absolute error\n",
    "print('Mean Absolute Error :', metrics.mean_absolute_error(y_test, Y_pred))\n",
    "\n",
    "# calculating the mean squared error\n",
    "print('Mean Squared Error :', metrics.mean_squared_error(y_test, Y_pred))\n",
    "\n",
    "# calculating the root mean squared error\n",
    "print('Root Mean Squared Error :', np.sqrt(metrics.mean_squared_error(y_test, Y_pred)))"
   ]
  },
  {
   "cell_type": "code",
   "execution_count": 16,
   "id": "20ab94fb",
   "metadata": {},
   "outputs": [
    {
     "name": "stdout",
     "output_type": "stream",
     "text": [
      "Mean Absolute Error: 53.01 degrees.\n",
      "Accuracy: 99.67 %.\n"
     ]
    }
   ],
   "source": [
    "# Calculate the absolute errors\n",
    "errors = abs(Y_pred - y_test)\n",
    "# Print out the mean absolute error (mae)\n",
    "print('Mean Absolute Error:', round(np.mean(errors), 2), 'degrees.')\n",
    "\n",
    "# Calculate mean absolute percentage error (MAPE)\n",
    "mape = 100 * (errors / y_test)\n",
    "\n",
    "# Calculate and display accuracy\n",
    "accuracy= 100 - np.mean(mape)\n",
    "print('Accuracy:', round(accuracy, 2), '%.')"
   ]
  },
  {
   "cell_type": "code",
   "execution_count": 17,
   "id": "6915c36a",
   "metadata": {},
   "outputs": [
    {
     "data": {
      "text/plain": [
       "0.9998463682051357"
      ]
     },
     "execution_count": 17,
     "metadata": {},
     "output_type": "execute_result"
    }
   ],
   "source": [
    "from sklearn.metrics import r2_score\n",
    "r2_score(y_test, Y_pred)"
   ]
  },
  {
   "cell_type": "code",
   "execution_count": 18,
   "id": "a7c39346",
   "metadata": {},
   "outputs": [
    {
     "data": {
      "text/html": [
       "<div>\n",
       "<style scoped>\n",
       "    .dataframe tbody tr th:only-of-type {\n",
       "        vertical-align: middle;\n",
       "    }\n",
       "\n",
       "    .dataframe tbody tr th {\n",
       "        vertical-align: top;\n",
       "    }\n",
       "\n",
       "    .dataframe thead th {\n",
       "        text-align: right;\n",
       "    }\n",
       "</style>\n",
       "<table border=\"1\" class=\"dataframe\">\n",
       "  <thead>\n",
       "    <tr style=\"text-align: right;\">\n",
       "      <th></th>\n",
       "      <th>Actual</th>\n",
       "      <th>Predicted</th>\n",
       "    </tr>\n",
       "  </thead>\n",
       "  <tbody>\n",
       "    <tr>\n",
       "      <th>0</th>\n",
       "      <td>16408.54</td>\n",
       "      <td>16372.616373</td>\n",
       "    </tr>\n",
       "    <tr>\n",
       "      <th>1</th>\n",
       "      <td>18308.15</td>\n",
       "      <td>18290.400127</td>\n",
       "    </tr>\n",
       "    <tr>\n",
       "      <th>2</th>\n",
       "      <td>7776.18</td>\n",
       "      <td>7740.274037</td>\n",
       "    </tr>\n",
       "    <tr>\n",
       "      <th>3</th>\n",
       "      <td>12393.90</td>\n",
       "      <td>12372.026389</td>\n",
       "    </tr>\n",
       "    <tr>\n",
       "      <th>4</th>\n",
       "      <td>16201.32</td>\n",
       "      <td>16043.874165</td>\n",
       "    </tr>\n",
       "    <tr>\n",
       "      <th>...</th>\n",
       "      <td>...</td>\n",
       "      <td>...</td>\n",
       "    </tr>\n",
       "    <tr>\n",
       "      <th>549</th>\n",
       "      <td>10296.85</td>\n",
       "      <td>10247.360931</td>\n",
       "    </tr>\n",
       "    <tr>\n",
       "      <th>550</th>\n",
       "      <td>18070.40</td>\n",
       "      <td>18069.037879</td>\n",
       "    </tr>\n",
       "    <tr>\n",
       "      <th>551</th>\n",
       "      <td>11613.30</td>\n",
       "      <td>11612.324106</td>\n",
       "    </tr>\n",
       "    <tr>\n",
       "      <th>552</th>\n",
       "      <td>17098.45</td>\n",
       "      <td>17028.067810</td>\n",
       "    </tr>\n",
       "    <tr>\n",
       "      <th>553</th>\n",
       "      <td>11955.01</td>\n",
       "      <td>12002.092526</td>\n",
       "    </tr>\n",
       "  </tbody>\n",
       "</table>\n",
       "<p>554 rows × 2 columns</p>\n",
       "</div>"
      ],
      "text/plain": [
       "       Actual     Predicted\n",
       "0    16408.54  16372.616373\n",
       "1    18308.15  18290.400127\n",
       "2     7776.18   7740.274037\n",
       "3    12393.90  12372.026389\n",
       "4    16201.32  16043.874165\n",
       "..        ...           ...\n",
       "549  10296.85  10247.360931\n",
       "550  18070.40  18069.037879\n",
       "551  11613.30  11612.324106\n",
       "552  17098.45  17028.067810\n",
       "553  11955.01  12002.092526\n",
       "\n",
       "[554 rows x 2 columns]"
      ]
     },
     "execution_count": 18,
     "metadata": {},
     "output_type": "execute_result"
    }
   ],
   "source": [
    "result = pd.DataFrame({'Actual' : y_test , 'Predicted' : Y_pred}).reset_index()[['Actual' , 'Predicted']]\n",
    "result"
   ]
  },
  {
   "cell_type": "code",
   "execution_count": 19,
   "id": "dbf9d5c2",
   "metadata": {},
   "outputs": [
    {
     "data": {
      "image/png": "[encoded data removed]",
      "text/plain": [
       "<Figure size 720x360 with 1 Axes>"
      ]
     },
     "metadata": {
      "needs_background": "light"
     },
     "output_type": "display_data"
    }
   ],
   "source": [
    "# plotting a distrubution plot for comparing the actual and the predicted values\n",
    "plt.figure(figsize=(10, 5))\n",
    "ax = sns.distplot(y, hist=False, bins=100, color=\"red\", label ='Actual Value')\n",
    "sns.distplot(Y_pred, hist=False, bins=100, color=\"blue\", label ='Predicted Values' , ax=ax)\n",
    "plt.xlabel('Price')\n",
    "plt.ylabel('count')\n",
    "plt.title('Actual vs Predicted Values of the price')\n",
    "plt.legend()\n",
    "plt.show()\n",
    "plt.close()"
   ]
  },
  {
   "cell_type": "code",
   "execution_count": null,
   "id": "ffd1654e",
   "metadata": {},
   "outputs": [],
   "source": []
  }
 ],
 "metadata": {
  "kernelspec": {
   "display_name": "Python 3",
   "language": "python",
   "name": "python3"
  },
  "language_info": {
   "codemirror_mode": {
    "name": "ipython",
    "version": 3
   },
   "file_extension": ".py",
   "mimetype": "text/x-python",
   "name": "python",
   "nbconvert_exporter": "python",
   "pygments_lexer": "ipython3",
   "version": "3.8.8"
  }
 },
 "nbformat": 4,
 "nbformat_minor": 5
}
