{
 "cells": [
  {
   "cell_type": "markdown",
   "id": "d1c5bd6f",
   "metadata": {},
   "source": [
    "# Combined_FAANG_binary_previous Dataset"
   ]
  },
  {
   "cell_type": "markdown",
   "id": "199adfcc",
   "metadata": {},
   "source": [
    "The dataset we are using in this analysis is ```Combined_FAANG_binary_previous dataset```, which contains the features such as messages,user,message_id, date and time. In this notebook we will be ```Performing text processing``` on the  ```Combined_FAANG_binary_previous dataset``` and then will be ```combining``` it with ```Dow Jones dataset``` for model building."
   ]
  },
  {
   "cell_type": "markdown",
   "id": "b678fb7a",
   "metadata": {},
   "source": [
    "#### Importing the required libraries!"
   ]
  },
  {
   "cell_type": "code",
   "execution_count": 1,
   "id": "4fc39ea8",
   "metadata": {},
   "outputs": [],
   "source": [
    "# importing the libraries related to the data manipulation.\n",
    "import numpy as np\n",
    "import pandas as pd\n",
    "\n",
    "# importing the libraries related to the data_visualization.\n",
    "import seaborn as sns\n",
    "import matplotlib.pyplot as plt\n",
    "\n",
    "# TextBlob is a Python library for processing textual data.\n",
    "from textblob import TextBlob\n",
    "\n",
    "# To avoid warnings\n",
    "import warnings\n",
    "warnings.filterwarnings(\"ignore\")"
   ]
  },
  {
   "cell_type": "markdown",
   "id": "91d1ce51",
   "metadata": {},
   "source": [
    "#### Loading the dataset!"
   ]
  },
  {
   "cell_type": "code",
   "execution_count": 2,
   "id": "f0a03f88",
   "metadata": {},
   "outputs": [
    {
     "data": {
      "text/html": [
       "<div>\n",
       "<style scoped>\n",
       "    .dataframe tbody tr th:only-of-type {\n",
       "        vertical-align: middle;\n",
       "    }\n",
       "\n",
       "    .dataframe tbody tr th {\n",
       "        vertical-align: top;\n",
       "    }\n",
       "\n",
       "    .dataframe thead th {\n",
       "        text-align: right;\n",
       "    }\n",
       "</style>\n",
       "<table border=\"1\" class=\"dataframe\">\n",
       "  <thead>\n",
       "    <tr style=\"text-align: right;\">\n",
       "      <th></th>\n",
       "      <th>symbol</th>\n",
       "      <th>message</th>\n",
       "      <th>datetime</th>\n",
       "      <th>user</th>\n",
       "      <th>message_id</th>\n",
       "      <th>Date</th>\n",
       "      <th>Time</th>\n",
       "      <th>label</th>\n",
       "    </tr>\n",
       "  </thead>\n",
       "  <tbody>\n",
       "    <tr>\n",
       "      <th>0</th>\n",
       "      <td>AAPL</td>\n",
       "      <td>qq next 60min confirm start rally aapl coming ...</td>\n",
       "      <td>2015-12-21 18:37:24</td>\n",
       "      <td>191996.0</td>\n",
       "      <td>47148173.0</td>\n",
       "      <td>2015-12-21</td>\n",
       "      <td>18:37:24</td>\n",
       "      <td>1</td>\n",
       "    </tr>\n",
       "    <tr>\n",
       "      <th>1</th>\n",
       "      <td>AAPL</td>\n",
       "      <td>aapl watching gap fill 169 20</td>\n",
       "      <td>2018-11-24 07:02:32</td>\n",
       "      <td>1665234.0</td>\n",
       "      <td>146068732.0</td>\n",
       "      <td>2018-11-24</td>\n",
       "      <td>07:02:32</td>\n",
       "      <td>1</td>\n",
       "    </tr>\n",
       "    <tr>\n",
       "      <th>2</th>\n",
       "      <td>AAPL</td>\n",
       "      <td>aapl weekly options gamblers lose</td>\n",
       "      <td>2014-07-22 21:48:13</td>\n",
       "      <td>71738.0</td>\n",
       "      <td>24904954.0</td>\n",
       "      <td>2014-07-22</td>\n",
       "      <td>21:48:13</td>\n",
       "      <td>1</td>\n",
       "    </tr>\n",
       "    <tr>\n",
       "      <th>3</th>\n",
       "      <td>AAPL</td>\n",
       "      <td>aapl</td>\n",
       "      <td>2020-01-27 07:07:03</td>\n",
       "      <td>1229493.0</td>\n",
       "      <td>191978042.0</td>\n",
       "      <td>2020-01-27</td>\n",
       "      <td>07:07:03</td>\n",
       "      <td>0</td>\n",
       "    </tr>\n",
       "    <tr>\n",
       "      <th>4</th>\n",
       "      <td>AAPL</td>\n",
       "      <td>key levels watch aapl</td>\n",
       "      <td>2014-06-27 15:19:47</td>\n",
       "      <td>106412.0</td>\n",
       "      <td>24190263.0</td>\n",
       "      <td>2014-06-27</td>\n",
       "      <td>15:19:47</td>\n",
       "      <td>1</td>\n",
       "    </tr>\n",
       "    <tr>\n",
       "      <th>...</th>\n",
       "      <td>...</td>\n",
       "      <td>...</td>\n",
       "      <td>...</td>\n",
       "      <td>...</td>\n",
       "      <td>...</td>\n",
       "      <td>...</td>\n",
       "      <td>...</td>\n",
       "      <td>...</td>\n",
       "    </tr>\n",
       "    <tr>\n",
       "      <th>2566853</th>\n",
       "      <td>NFLX</td>\n",
       "      <td>nflx sister owns kinda thinking telling sell b...</td>\n",
       "      <td>2019-01-11 20:51:22</td>\n",
       "      <td>607557.0</td>\n",
       "      <td>150426203.0</td>\n",
       "      <td>2019-01-11</td>\n",
       "      <td>20:51:22</td>\n",
       "      <td>1</td>\n",
       "    </tr>\n",
       "    <tr>\n",
       "      <th>2566854</th>\n",
       "      <td>NFLX</td>\n",
       "      <td>nflx bought 123 shares think hit 175 tomorrow</td>\n",
       "      <td>2017-07-17 19:34:14</td>\n",
       "      <td>453320.0</td>\n",
       "      <td>89017330.0</td>\n",
       "      <td>2017-07-17</td>\n",
       "      <td>19:34:14</td>\n",
       "      <td>1</td>\n",
       "    </tr>\n",
       "    <tr>\n",
       "      <th>2566855</th>\n",
       "      <td>NFLX</td>\n",
       "      <td>quot vsfinancials quot investcorrectly netflix...</td>\n",
       "      <td>2015-06-10 13:02:32</td>\n",
       "      <td>419879.0</td>\n",
       "      <td>38055272.0</td>\n",
       "      <td>2015-06-10</td>\n",
       "      <td>13:02:32</td>\n",
       "      <td>1</td>\n",
       "    </tr>\n",
       "    <tr>\n",
       "      <th>2566856</th>\n",
       "      <td>NFLX</td>\n",
       "      <td>mgt 32 million volume aapl 41 nflx 11 msft 8 31</td>\n",
       "      <td>2016-05-12 15:37:16</td>\n",
       "      <td>248795.0</td>\n",
       "      <td>54671454.0</td>\n",
       "      <td>2016-05-12</td>\n",
       "      <td>15:37:16</td>\n",
       "      <td>0</td>\n",
       "    </tr>\n",
       "    <tr>\n",
       "      <th>2566857</th>\n",
       "      <td>NFLX</td>\n",
       "      <td>nflx stock unstable ups downs like ex girlfriend</td>\n",
       "      <td>2020-02-27 14:52:21</td>\n",
       "      <td>2153160.0</td>\n",
       "      <td>196927202.0</td>\n",
       "      <td>2020-02-27</td>\n",
       "      <td>14:52:21</td>\n",
       "      <td>0</td>\n",
       "    </tr>\n",
       "  </tbody>\n",
       "</table>\n",
       "<p>2566858 rows × 8 columns</p>\n",
       "</div>"
      ],
      "text/plain": [
       "        symbol                                            message  \\\n",
       "0         AAPL  qq next 60min confirm start rally aapl coming ...   \n",
       "1         AAPL                      aapl watching gap fill 169 20   \n",
       "2         AAPL                  aapl weekly options gamblers lose   \n",
       "3         AAPL                                               aapl   \n",
       "4         AAPL                              key levels watch aapl   \n",
       "...        ...                                                ...   \n",
       "2566853   NFLX  nflx sister owns kinda thinking telling sell b...   \n",
       "2566854   NFLX      nflx bought 123 shares think hit 175 tomorrow   \n",
       "2566855   NFLX  quot vsfinancials quot investcorrectly netflix...   \n",
       "2566856   NFLX    mgt 32 million volume aapl 41 nflx 11 msft 8 31   \n",
       "2566857   NFLX   nflx stock unstable ups downs like ex girlfriend   \n",
       "\n",
       "                    datetime       user   message_id        Date      Time  \\\n",
       "0        2015-12-21 18:37:24   191996.0   47148173.0  2015-12-21  18:37:24   \n",
       "1        2018-11-24 07:02:32  1665234.0  146068732.0  2018-11-24  07:02:32   \n",
       "2        2014-07-22 21:48:13    71738.0   24904954.0  2014-07-22  21:48:13   \n",
       "3        2020-01-27 07:07:03  1229493.0  191978042.0  2020-01-27  07:07:03   \n",
       "4        2014-06-27 15:19:47   106412.0   24190263.0  2014-06-27  15:19:47   \n",
       "...                      ...        ...          ...         ...       ...   \n",
       "2566853  2019-01-11 20:51:22   607557.0  150426203.0  2019-01-11  20:51:22   \n",
       "2566854  2017-07-17 19:34:14   453320.0   89017330.0  2017-07-17  19:34:14   \n",
       "2566855  2015-06-10 13:02:32   419879.0   38055272.0  2015-06-10  13:02:32   \n",
       "2566856  2016-05-12 15:37:16   248795.0   54671454.0  2016-05-12  15:37:16   \n",
       "2566857  2020-02-27 14:52:21  2153160.0  196927202.0  2020-02-27  14:52:21   \n",
       "\n",
       "         label  \n",
       "0            1  \n",
       "1            1  \n",
       "2            1  \n",
       "3            0  \n",
       "4            1  \n",
       "...        ...  \n",
       "2566853      1  \n",
       "2566854      1  \n",
       "2566855      1  \n",
       "2566856      0  \n",
       "2566857      0  \n",
       "\n",
       "[2566858 rows x 8 columns]"
      ]
     },
     "execution_count": 2,
     "metadata": {},
     "output_type": "execute_result"
    }
   ],
   "source": [
    "# datapath = E:\\DOWNLOADS\\Combined_FAANG_binary_previous.csv\n",
    "FAANG_binary = pd.read_csv(r'E:\\DOWNLOADS\\Combined_FAANG_binary_previous.csv')\n",
    "FAANG_binary"
   ]
  },
  {
   "cell_type": "code",
   "execution_count": 3,
   "id": "e7dee5c3",
   "metadata": {},
   "outputs": [
    {
     "name": "stdout",
     "output_type": "stream",
     "text": [
      "(2566858, 8)\n"
     ]
    }
   ],
   "source": [
    "# shape of the dataset\n",
    "print(FAANG_binary.shape)"
   ]
  },
  {
   "cell_type": "code",
   "execution_count": 4,
   "id": "22657fbe",
   "metadata": {},
   "outputs": [
    {
     "name": "stdout",
     "output_type": "stream",
     "text": [
      "<class 'pandas.core.frame.DataFrame'>\n",
      "RangeIndex: 2566858 entries, 0 to 2566857\n",
      "Data columns (total 8 columns):\n",
      " #   Column      Dtype  \n",
      "---  ------      -----  \n",
      " 0   symbol      object \n",
      " 1   message     object \n",
      " 2   datetime    object \n",
      " 3   user        float64\n",
      " 4   message_id  float64\n",
      " 5   Date        object \n",
      " 6   Time        object \n",
      " 7   label       int64  \n",
      "dtypes: float64(2), int64(1), object(5)\n",
      "memory usage: 156.7+ MB\n"
     ]
    }
   ],
   "source": [
    "# Find the information about the given dataFrame including the index dtype and column dtypes, non-null values and memory usage.\n",
    "FAANG_binary.info()"
   ]
  },
  {
   "cell_type": "markdown",
   "id": "4b52df1e",
   "metadata": {},
   "source": [
    "Converting the datetime feature from the ```object datatype``` to the ```datetime datatype```\n",
    "and retaining only the date from the datetime feature as we have the time feature separatly in the dataset."
   ]
  },
  {
   "cell_type": "code",
   "execution_count": 5,
   "id": "7a4bd07c",
   "metadata": {},
   "outputs": [],
   "source": [
    "# Converting the object datatype to the datetime datatype\n",
    "FAANG_binary['datetime'] = pd.to_datetime(FAANG_binary['datetime'])"
   ]
  },
  {
   "cell_type": "code",
   "execution_count": 6,
   "id": "d88a7b42",
   "metadata": {},
   "outputs": [],
   "source": [
    "# retaining only the date from the datetime feature\n",
    "FAANG_binary['datetime'] = FAANG_binary['datetime'].dt.date"
   ]
  },
  {
   "cell_type": "code",
   "execution_count": 7,
   "id": "26b3b787",
   "metadata": {},
   "outputs": [
    {
     "data": {
      "text/html": [
       "<div>\n",
       "<style scoped>\n",
       "    .dataframe tbody tr th:only-of-type {\n",
       "        vertical-align: middle;\n",
       "    }\n",
       "\n",
       "    .dataframe tbody tr th {\n",
       "        vertical-align: top;\n",
       "    }\n",
       "\n",
       "    .dataframe thead th {\n",
       "        text-align: right;\n",
       "    }\n",
       "</style>\n",
       "<table border=\"1\" class=\"dataframe\">\n",
       "  <thead>\n",
       "    <tr style=\"text-align: right;\">\n",
       "      <th></th>\n",
       "      <th>symbol</th>\n",
       "      <th>message</th>\n",
       "      <th>datetime</th>\n",
       "      <th>user</th>\n",
       "      <th>message_id</th>\n",
       "      <th>Date</th>\n",
       "      <th>Time</th>\n",
       "      <th>label</th>\n",
       "    </tr>\n",
       "  </thead>\n",
       "  <tbody>\n",
       "    <tr>\n",
       "      <th>0</th>\n",
       "      <td>AAPL</td>\n",
       "      <td>qq next 60min confirm start rally aapl coming ...</td>\n",
       "      <td>2015-12-21</td>\n",
       "      <td>191996.0</td>\n",
       "      <td>47148173.0</td>\n",
       "      <td>2015-12-21</td>\n",
       "      <td>18:37:24</td>\n",
       "      <td>1</td>\n",
       "    </tr>\n",
       "    <tr>\n",
       "      <th>1</th>\n",
       "      <td>AAPL</td>\n",
       "      <td>aapl watching gap fill 169 20</td>\n",
       "      <td>2018-11-24</td>\n",
       "      <td>1665234.0</td>\n",
       "      <td>146068732.0</td>\n",
       "      <td>2018-11-24</td>\n",
       "      <td>07:02:32</td>\n",
       "      <td>1</td>\n",
       "    </tr>\n",
       "    <tr>\n",
       "      <th>2</th>\n",
       "      <td>AAPL</td>\n",
       "      <td>aapl weekly options gamblers lose</td>\n",
       "      <td>2014-07-22</td>\n",
       "      <td>71738.0</td>\n",
       "      <td>24904954.0</td>\n",
       "      <td>2014-07-22</td>\n",
       "      <td>21:48:13</td>\n",
       "      <td>1</td>\n",
       "    </tr>\n",
       "    <tr>\n",
       "      <th>3</th>\n",
       "      <td>AAPL</td>\n",
       "      <td>aapl</td>\n",
       "      <td>2020-01-27</td>\n",
       "      <td>1229493.0</td>\n",
       "      <td>191978042.0</td>\n",
       "      <td>2020-01-27</td>\n",
       "      <td>07:07:03</td>\n",
       "      <td>0</td>\n",
       "    </tr>\n",
       "    <tr>\n",
       "      <th>4</th>\n",
       "      <td>AAPL</td>\n",
       "      <td>key levels watch aapl</td>\n",
       "      <td>2014-06-27</td>\n",
       "      <td>106412.0</td>\n",
       "      <td>24190263.0</td>\n",
       "      <td>2014-06-27</td>\n",
       "      <td>15:19:47</td>\n",
       "      <td>1</td>\n",
       "    </tr>\n",
       "    <tr>\n",
       "      <th>...</th>\n",
       "      <td>...</td>\n",
       "      <td>...</td>\n",
       "      <td>...</td>\n",
       "      <td>...</td>\n",
       "      <td>...</td>\n",
       "      <td>...</td>\n",
       "      <td>...</td>\n",
       "      <td>...</td>\n",
       "    </tr>\n",
       "    <tr>\n",
       "      <th>2566853</th>\n",
       "      <td>NFLX</td>\n",
       "      <td>nflx sister owns kinda thinking telling sell b...</td>\n",
       "      <td>2019-01-11</td>\n",
       "      <td>607557.0</td>\n",
       "      <td>150426203.0</td>\n",
       "      <td>2019-01-11</td>\n",
       "      <td>20:51:22</td>\n",
       "      <td>1</td>\n",
       "    </tr>\n",
       "    <tr>\n",
       "      <th>2566854</th>\n",
       "      <td>NFLX</td>\n",
       "      <td>nflx bought 123 shares think hit 175 tomorrow</td>\n",
       "      <td>2017-07-17</td>\n",
       "      <td>453320.0</td>\n",
       "      <td>89017330.0</td>\n",
       "      <td>2017-07-17</td>\n",
       "      <td>19:34:14</td>\n",
       "      <td>1</td>\n",
       "    </tr>\n",
       "    <tr>\n",
       "      <th>2566855</th>\n",
       "      <td>NFLX</td>\n",
       "      <td>quot vsfinancials quot investcorrectly netflix...</td>\n",
       "      <td>2015-06-10</td>\n",
       "      <td>419879.0</td>\n",
       "      <td>38055272.0</td>\n",
       "      <td>2015-06-10</td>\n",
       "      <td>13:02:32</td>\n",
       "      <td>1</td>\n",
       "    </tr>\n",
       "    <tr>\n",
       "      <th>2566856</th>\n",
       "      <td>NFLX</td>\n",
       "      <td>mgt 32 million volume aapl 41 nflx 11 msft 8 31</td>\n",
       "      <td>2016-05-12</td>\n",
       "      <td>248795.0</td>\n",
       "      <td>54671454.0</td>\n",
       "      <td>2016-05-12</td>\n",
       "      <td>15:37:16</td>\n",
       "      <td>0</td>\n",
       "    </tr>\n",
       "    <tr>\n",
       "      <th>2566857</th>\n",
       "      <td>NFLX</td>\n",
       "      <td>nflx stock unstable ups downs like ex girlfriend</td>\n",
       "      <td>2020-02-27</td>\n",
       "      <td>2153160.0</td>\n",
       "      <td>196927202.0</td>\n",
       "      <td>2020-02-27</td>\n",
       "      <td>14:52:21</td>\n",
       "      <td>0</td>\n",
       "    </tr>\n",
       "  </tbody>\n",
       "</table>\n",
       "<p>2566858 rows × 8 columns</p>\n",
       "</div>"
      ],
      "text/plain": [
       "        symbol                                            message    datetime  \\\n",
       "0         AAPL  qq next 60min confirm start rally aapl coming ...  2015-12-21   \n",
       "1         AAPL                      aapl watching gap fill 169 20  2018-11-24   \n",
       "2         AAPL                  aapl weekly options gamblers lose  2014-07-22   \n",
       "3         AAPL                                               aapl  2020-01-27   \n",
       "4         AAPL                              key levels watch aapl  2014-06-27   \n",
       "...        ...                                                ...         ...   \n",
       "2566853   NFLX  nflx sister owns kinda thinking telling sell b...  2019-01-11   \n",
       "2566854   NFLX      nflx bought 123 shares think hit 175 tomorrow  2017-07-17   \n",
       "2566855   NFLX  quot vsfinancials quot investcorrectly netflix...  2015-06-10   \n",
       "2566856   NFLX    mgt 32 million volume aapl 41 nflx 11 msft 8 31  2016-05-12   \n",
       "2566857   NFLX   nflx stock unstable ups downs like ex girlfriend  2020-02-27   \n",
       "\n",
       "              user   message_id        Date      Time  label  \n",
       "0         191996.0   47148173.0  2015-12-21  18:37:24      1  \n",
       "1        1665234.0  146068732.0  2018-11-24  07:02:32      1  \n",
       "2          71738.0   24904954.0  2014-07-22  21:48:13      1  \n",
       "3        1229493.0  191978042.0  2020-01-27  07:07:03      0  \n",
       "4         106412.0   24190263.0  2014-06-27  15:19:47      1  \n",
       "...            ...          ...         ...       ...    ...  \n",
       "2566853   607557.0  150426203.0  2019-01-11  20:51:22      1  \n",
       "2566854   453320.0   89017330.0  2017-07-17  19:34:14      1  \n",
       "2566855   419879.0   38055272.0  2015-06-10  13:02:32      1  \n",
       "2566856   248795.0   54671454.0  2016-05-12  15:37:16      0  \n",
       "2566857  2153160.0  196927202.0  2020-02-27  14:52:21      0  \n",
       "\n",
       "[2566858 rows x 8 columns]"
      ]
     },
     "execution_count": 7,
     "metadata": {},
     "output_type": "execute_result"
    }
   ],
   "source": [
    "FAANG_binary"
   ]
  },
  {
   "cell_type": "code",
   "execution_count": 8,
   "id": "01916a3d",
   "metadata": {},
   "outputs": [
    {
     "data": {
      "text/plain": [
       "symbol        0\n",
       "message       0\n",
       "datetime      0\n",
       "user          0\n",
       "message_id    0\n",
       "Date          0\n",
       "Time          0\n",
       "label         0\n",
       "dtype: int64"
      ]
     },
     "execution_count": 8,
     "metadata": {},
     "output_type": "execute_result"
    }
   ],
   "source": [
    "# Finding the total number of null values, if present\n",
    "FAANG_binary.isnull().sum()"
   ]
  },
  {
   "cell_type": "markdown",
   "id": "227b1265",
   "metadata": {},
   "source": [
    "Droping few columns of the dataset such as ```'message_id','symbol','datetime','user','Time'``` as these are no use in our further analysis"
   ]
  },
  {
   "cell_type": "code",
   "execution_count": 9,
   "id": "0d7a81ca",
   "metadata": {},
   "outputs": [],
   "source": [
    "FAANG_binary.drop(columns=['message_id','symbol','datetime','user','Time'],axis =1 ,inplace =True)"
   ]
  },
  {
   "cell_type": "code",
   "execution_count": 10,
   "id": "a19cef27",
   "metadata": {},
   "outputs": [
    {
     "data": {
      "text/html": [
       "<div>\n",
       "<style scoped>\n",
       "    .dataframe tbody tr th:only-of-type {\n",
       "        vertical-align: middle;\n",
       "    }\n",
       "\n",
       "    .dataframe tbody tr th {\n",
       "        vertical-align: top;\n",
       "    }\n",
       "\n",
       "    .dataframe thead th {\n",
       "        text-align: right;\n",
       "    }\n",
       "</style>\n",
       "<table border=\"1\" class=\"dataframe\">\n",
       "  <thead>\n",
       "    <tr style=\"text-align: right;\">\n",
       "      <th></th>\n",
       "      <th>message</th>\n",
       "      <th>Date</th>\n",
       "      <th>label</th>\n",
       "    </tr>\n",
       "  </thead>\n",
       "  <tbody>\n",
       "    <tr>\n",
       "      <th>0</th>\n",
       "      <td>qq next 60min confirm start rally aapl coming ...</td>\n",
       "      <td>2015-12-21</td>\n",
       "      <td>1</td>\n",
       "    </tr>\n",
       "    <tr>\n",
       "      <th>1</th>\n",
       "      <td>aapl watching gap fill 169 20</td>\n",
       "      <td>2018-11-24</td>\n",
       "      <td>1</td>\n",
       "    </tr>\n",
       "    <tr>\n",
       "      <th>2</th>\n",
       "      <td>aapl weekly options gamblers lose</td>\n",
       "      <td>2014-07-22</td>\n",
       "      <td>1</td>\n",
       "    </tr>\n",
       "    <tr>\n",
       "      <th>3</th>\n",
       "      <td>aapl</td>\n",
       "      <td>2020-01-27</td>\n",
       "      <td>0</td>\n",
       "    </tr>\n",
       "    <tr>\n",
       "      <th>4</th>\n",
       "      <td>key levels watch aapl</td>\n",
       "      <td>2014-06-27</td>\n",
       "      <td>1</td>\n",
       "    </tr>\n",
       "    <tr>\n",
       "      <th>...</th>\n",
       "      <td>...</td>\n",
       "      <td>...</td>\n",
       "      <td>...</td>\n",
       "    </tr>\n",
       "    <tr>\n",
       "      <th>2566853</th>\n",
       "      <td>nflx sister owns kinda thinking telling sell b...</td>\n",
       "      <td>2019-01-11</td>\n",
       "      <td>1</td>\n",
       "    </tr>\n",
       "    <tr>\n",
       "      <th>2566854</th>\n",
       "      <td>nflx bought 123 shares think hit 175 tomorrow</td>\n",
       "      <td>2017-07-17</td>\n",
       "      <td>1</td>\n",
       "    </tr>\n",
       "    <tr>\n",
       "      <th>2566855</th>\n",
       "      <td>quot vsfinancials quot investcorrectly netflix...</td>\n",
       "      <td>2015-06-10</td>\n",
       "      <td>1</td>\n",
       "    </tr>\n",
       "    <tr>\n",
       "      <th>2566856</th>\n",
       "      <td>mgt 32 million volume aapl 41 nflx 11 msft 8 31</td>\n",
       "      <td>2016-05-12</td>\n",
       "      <td>0</td>\n",
       "    </tr>\n",
       "    <tr>\n",
       "      <th>2566857</th>\n",
       "      <td>nflx stock unstable ups downs like ex girlfriend</td>\n",
       "      <td>2020-02-27</td>\n",
       "      <td>0</td>\n",
       "    </tr>\n",
       "  </tbody>\n",
       "</table>\n",
       "<p>2566858 rows × 3 columns</p>\n",
       "</div>"
      ],
      "text/plain": [
       "                                                   message        Date  label\n",
       "0        qq next 60min confirm start rally aapl coming ...  2015-12-21      1\n",
       "1                            aapl watching gap fill 169 20  2018-11-24      1\n",
       "2                        aapl weekly options gamblers lose  2014-07-22      1\n",
       "3                                                     aapl  2020-01-27      0\n",
       "4                                    key levels watch aapl  2014-06-27      1\n",
       "...                                                    ...         ...    ...\n",
       "2566853  nflx sister owns kinda thinking telling sell b...  2019-01-11      1\n",
       "2566854      nflx bought 123 shares think hit 175 tomorrow  2017-07-17      1\n",
       "2566855  quot vsfinancials quot investcorrectly netflix...  2015-06-10      1\n",
       "2566856    mgt 32 million volume aapl 41 nflx 11 msft 8 31  2016-05-12      0\n",
       "2566857   nflx stock unstable ups downs like ex girlfriend  2020-02-27      0\n",
       "\n",
       "[2566858 rows x 3 columns]"
      ]
     },
     "execution_count": 10,
     "metadata": {},
     "output_type": "execute_result"
    }
   ],
   "source": [
    "FAANG_binary"
   ]
  },
  {
   "cell_type": "markdown",
   "id": "ec82cbc0",
   "metadata": {},
   "source": [
    "With ```TextBlob```, we get a ```polarity``` and a ```subjectivity metric```. \n",
    "\n",
    "The polarity is the sentiment itself, ranging from a ```-1 to a +1.```"
   ]
  },
  {
   "cell_type": "code",
   "execution_count": 11,
   "id": "51e5b515",
   "metadata": {},
   "outputs": [],
   "source": [
    "FAANG_binary['polarity'] = FAANG_binary['message'].apply(lambda x: TextBlob(x).sentiment.polarity)"
   ]
  },
  {
   "cell_type": "code",
   "execution_count": 12,
   "id": "84e2ba8b",
   "metadata": {},
   "outputs": [
    {
     "data": {
      "text/html": [
       "<div>\n",
       "<style scoped>\n",
       "    .dataframe tbody tr th:only-of-type {\n",
       "        vertical-align: middle;\n",
       "    }\n",
       "\n",
       "    .dataframe tbody tr th {\n",
       "        vertical-align: top;\n",
       "    }\n",
       "\n",
       "    .dataframe thead th {\n",
       "        text-align: right;\n",
       "    }\n",
       "</style>\n",
       "<table border=\"1\" class=\"dataframe\">\n",
       "  <thead>\n",
       "    <tr style=\"text-align: right;\">\n",
       "      <th></th>\n",
       "      <th>message</th>\n",
       "      <th>Date</th>\n",
       "      <th>label</th>\n",
       "      <th>polarity</th>\n",
       "    </tr>\n",
       "  </thead>\n",
       "  <tbody>\n",
       "    <tr>\n",
       "      <th>0</th>\n",
       "      <td>qq next 60min confirm start rally aapl coming ...</td>\n",
       "      <td>2015-12-21</td>\n",
       "      <td>1</td>\n",
       "      <td>0.0</td>\n",
       "    </tr>\n",
       "    <tr>\n",
       "      <th>1</th>\n",
       "      <td>aapl watching gap fill 169 20</td>\n",
       "      <td>2018-11-24</td>\n",
       "      <td>1</td>\n",
       "      <td>0.0</td>\n",
       "    </tr>\n",
       "    <tr>\n",
       "      <th>2</th>\n",
       "      <td>aapl weekly options gamblers lose</td>\n",
       "      <td>2014-07-22</td>\n",
       "      <td>1</td>\n",
       "      <td>0.0</td>\n",
       "    </tr>\n",
       "    <tr>\n",
       "      <th>3</th>\n",
       "      <td>aapl</td>\n",
       "      <td>2020-01-27</td>\n",
       "      <td>0</td>\n",
       "      <td>0.0</td>\n",
       "    </tr>\n",
       "    <tr>\n",
       "      <th>4</th>\n",
       "      <td>key levels watch aapl</td>\n",
       "      <td>2014-06-27</td>\n",
       "      <td>1</td>\n",
       "      <td>0.0</td>\n",
       "    </tr>\n",
       "  </tbody>\n",
       "</table>\n",
       "</div>"
      ],
      "text/plain": [
       "                                             message        Date  label  \\\n",
       "0  qq next 60min confirm start rally aapl coming ...  2015-12-21      1   \n",
       "1                      aapl watching gap fill 169 20  2018-11-24      1   \n",
       "2                  aapl weekly options gamblers lose  2014-07-22      1   \n",
       "3                                               aapl  2020-01-27      0   \n",
       "4                              key levels watch aapl  2014-06-27      1   \n",
       "\n",
       "   polarity  \n",
       "0       0.0  \n",
       "1       0.0  \n",
       "2       0.0  \n",
       "3       0.0  \n",
       "4       0.0  "
      ]
     },
     "execution_count": 12,
     "metadata": {},
     "output_type": "execute_result"
    }
   ],
   "source": [
    "FAANG_binary.head()"
   ]
  },
  {
   "cell_type": "markdown",
   "id": "4751daa0",
   "metadata": {},
   "source": [
    "#### Shuffle the dataset"
   ]
  },
  {
   "cell_type": "code",
   "execution_count": 13,
   "id": "d50268c3",
   "metadata": {},
   "outputs": [],
   "source": [
    "FAANG_binary = FAANG_binary.sample(frac=1).reset_index(drop=True)"
   ]
  },
  {
   "cell_type": "markdown",
   "id": "4bc8be89",
   "metadata": {},
   "source": [
    "Converting the Continous variable to the Categorical variable and seperating them into\n",
    "\n",
    "```Negative values, Positive values and Neutral values```"
   ]
  },
  {
   "cell_type": "code",
   "execution_count": 14,
   "id": "a2666254",
   "metadata": {},
   "outputs": [],
   "source": [
    "# Considering the Categorical Polarity as Cat_Polarity\n",
    "FAANG_binary['Cat_Polarity']  = 0"
   ]
  },
  {
   "cell_type": "code",
   "execution_count": 15,
   "id": "7e4467af",
   "metadata": {},
   "outputs": [],
   "source": [
    "# Converting the Continuous variable to Categorical variable\n",
    "\n",
    "# Neutral value\n",
    "FAANG_binary['Cat_Polarity'][FAANG_binary.polarity == 0] = 0\n",
    "\n",
    "# Positive value\n",
    "FAANG_binary['Cat_Polarity'][FAANG_binary.polarity > 0] = 1\n",
    "\n",
    "# Negative value\n",
    "FAANG_binary['Cat_Polarity'][FAANG_binary.polarity <= 0] = -1\n"
   ]
  },
  {
   "cell_type": "code",
   "execution_count": 16,
   "id": "64123a24",
   "metadata": {},
   "outputs": [
    {
     "data": {
      "text/plain": [
       "-1    1662303\n",
       " 1     904555\n",
       "Name: Cat_Polarity, dtype: int64"
      ]
     },
     "execution_count": 16,
     "metadata": {},
     "output_type": "execute_result"
    }
   ],
   "source": [
    "# Counts of unique values present in the Categorical Polarity.\n",
    "FAANG_binary['Cat_Polarity'].value_counts()"
   ]
  },
  {
   "cell_type": "markdown",
   "id": "82e9743b",
   "metadata": {},
   "source": [
    "#### Separate dataframes for Negative,Positive & Neutral Messages"
   ]
  },
  {
   "cell_type": "code",
   "execution_count": 17,
   "id": "ea02ad53",
   "metadata": {},
   "outputs": [],
   "source": [
    "# Positive value\n",
    "Postive_value = FAANG_binary[FAANG_binary['Cat_Polarity'] == 1]\n",
    "Postive_value = Postive_value.reset_index(drop = True)\n",
    "\n",
    "# Negative value\n",
    "Negative_value = FAANG_binary[FAANG_binary['Cat_Polarity'] == -1]\n",
    "Negative_value = Negative_value.reset_index(drop = True)\n",
    "\n",
    "# Neutral value\n",
    "Neutral_value = FAANG_binary[FAANG_binary['Cat_Polarity'] == 0]\n",
    "Neutral_value = Neutral_value.reset_index(drop = True)"
   ]
  },
  {
   "cell_type": "code",
   "execution_count": 18,
   "id": "91d751a2",
   "metadata": {},
   "outputs": [
    {
     "data": {
      "text/html": [
       "<div>\n",
       "<style scoped>\n",
       "    .dataframe tbody tr th:only-of-type {\n",
       "        vertical-align: middle;\n",
       "    }\n",
       "\n",
       "    .dataframe tbody tr th {\n",
       "        vertical-align: top;\n",
       "    }\n",
       "\n",
       "    .dataframe thead th {\n",
       "        text-align: right;\n",
       "    }\n",
       "</style>\n",
       "<table border=\"1\" class=\"dataframe\">\n",
       "  <thead>\n",
       "    <tr style=\"text-align: right;\">\n",
       "      <th></th>\n",
       "      <th>message</th>\n",
       "      <th>Date</th>\n",
       "      <th>label</th>\n",
       "      <th>polarity</th>\n",
       "      <th>Cat_Polarity</th>\n",
       "    </tr>\n",
       "  </thead>\n",
       "  <tbody>\n",
       "    <tr>\n",
       "      <th>0</th>\n",
       "      <td>aapl 39 done 180 easy div payout</td>\n",
       "      <td>2018-05-15</td>\n",
       "      <td>0</td>\n",
       "      <td>0.433333</td>\n",
       "      <td>1</td>\n",
       "    </tr>\n",
       "    <tr>\n",
       "      <th>1</th>\n",
       "      <td>aapl 912 dow jones points week nice risk manag...</td>\n",
       "      <td>2016-01-07</td>\n",
       "      <td>0</td>\n",
       "      <td>0.442857</td>\n",
       "      <td>1</td>\n",
       "    </tr>\n",
       "    <tr>\n",
       "      <th>2</th>\n",
       "      <td>aapl amzn apple wil start pay taxes europe ful...</td>\n",
       "      <td>2015-05-25</td>\n",
       "      <td>0</td>\n",
       "      <td>0.350000</td>\n",
       "      <td>1</td>\n",
       "    </tr>\n",
       "    <tr>\n",
       "      <th>3</th>\n",
       "      <td>jim cramer simply many ways win amazon aapl</td>\n",
       "      <td>2018-08-13</td>\n",
       "      <td>1</td>\n",
       "      <td>0.650000</td>\n",
       "      <td>1</td>\n",
       "    </tr>\n",
       "    <tr>\n",
       "      <th>4</th>\n",
       "      <td>nflx biggest headline tomorrow beat expectatio...</td>\n",
       "      <td>2019-01-18</td>\n",
       "      <td>0</td>\n",
       "      <td>0.329924</td>\n",
       "      <td>1</td>\n",
       "    </tr>\n",
       "  </tbody>\n",
       "</table>\n",
       "</div>"
      ],
      "text/plain": [
       "                                             message        Date  label  \\\n",
       "0                   aapl 39 done 180 easy div payout  2018-05-15      0   \n",
       "1  aapl 912 dow jones points week nice risk manag...  2016-01-07      0   \n",
       "2  aapl amzn apple wil start pay taxes europe ful...  2015-05-25      0   \n",
       "3        jim cramer simply many ways win amazon aapl  2018-08-13      1   \n",
       "4  nflx biggest headline tomorrow beat expectatio...  2019-01-18      0   \n",
       "\n",
       "   polarity  Cat_Polarity  \n",
       "0  0.433333             1  \n",
       "1  0.442857             1  \n",
       "2  0.350000             1  \n",
       "3  0.650000             1  \n",
       "4  0.329924             1  "
      ]
     },
     "execution_count": 18,
     "metadata": {},
     "output_type": "execute_result"
    }
   ],
   "source": [
    "# Printing the first 5 rows of Positive value\n",
    "Postive_value.head()"
   ]
  },
  {
   "cell_type": "code",
   "execution_count": 19,
   "id": "b4604e77",
   "metadata": {},
   "outputs": [
    {
     "data": {
      "text/plain": [
       "(904555, 5)"
      ]
     },
     "execution_count": 19,
     "metadata": {},
     "output_type": "execute_result"
    }
   ],
   "source": [
    "# Printing the shape of Positive value\n",
    "Postive_value.shape"
   ]
  },
  {
   "cell_type": "code",
   "execution_count": 20,
   "id": "a82ef532",
   "metadata": {},
   "outputs": [
    {
     "data": {
      "text/html": [
       "<div>\n",
       "<style scoped>\n",
       "    .dataframe tbody tr th:only-of-type {\n",
       "        vertical-align: middle;\n",
       "    }\n",
       "\n",
       "    .dataframe tbody tr th {\n",
       "        vertical-align: top;\n",
       "    }\n",
       "\n",
       "    .dataframe thead th {\n",
       "        text-align: right;\n",
       "    }\n",
       "</style>\n",
       "<table border=\"1\" class=\"dataframe\">\n",
       "  <thead>\n",
       "    <tr style=\"text-align: right;\">\n",
       "      <th></th>\n",
       "      <th>message</th>\n",
       "      <th>Date</th>\n",
       "      <th>label</th>\n",
       "      <th>polarity</th>\n",
       "      <th>Cat_Polarity</th>\n",
       "    </tr>\n",
       "  </thead>\n",
       "  <tbody>\n",
       "    <tr>\n",
       "      <th>0</th>\n",
       "      <td>aapl huh 39 happened</td>\n",
       "      <td>2015-11-12</td>\n",
       "      <td>0</td>\n",
       "      <td>0.0</td>\n",
       "      <td>-1</td>\n",
       "    </tr>\n",
       "    <tr>\n",
       "      <th>1</th>\n",
       "      <td>google yahoo search partnership may add shareh...</td>\n",
       "      <td>2015-07-10</td>\n",
       "      <td>1</td>\n",
       "      <td>0.0</td>\n",
       "      <td>-1</td>\n",
       "    </tr>\n",
       "    <tr>\n",
       "      <th>2</th>\n",
       "      <td>twtr cramer likes twitter takeover thinks prob...</td>\n",
       "      <td>2015-06-16</td>\n",
       "      <td>1</td>\n",
       "      <td>0.0</td>\n",
       "      <td>-1</td>\n",
       "    </tr>\n",
       "    <tr>\n",
       "      <th>3</th>\n",
       "      <td>amzn msft aapl played trump giving insider inf...</td>\n",
       "      <td>2019-05-06</td>\n",
       "      <td>0</td>\n",
       "      <td>0.0</td>\n",
       "      <td>-1</td>\n",
       "    </tr>\n",
       "    <tr>\n",
       "      <th>4</th>\n",
       "      <td>aapl hope algos go crazy</td>\n",
       "      <td>2016-06-06</td>\n",
       "      <td>1</td>\n",
       "      <td>-0.6</td>\n",
       "      <td>-1</td>\n",
       "    </tr>\n",
       "  </tbody>\n",
       "</table>\n",
       "</div>"
      ],
      "text/plain": [
       "                                             message        Date  label  \\\n",
       "0                               aapl huh 39 happened  2015-11-12      0   \n",
       "1  google yahoo search partnership may add shareh...  2015-07-10      1   \n",
       "2  twtr cramer likes twitter takeover thinks prob...  2015-06-16      1   \n",
       "3  amzn msft aapl played trump giving insider inf...  2019-05-06      0   \n",
       "4                           aapl hope algos go crazy  2016-06-06      1   \n",
       "\n",
       "   polarity  Cat_Polarity  \n",
       "0       0.0            -1  \n",
       "1       0.0            -1  \n",
       "2       0.0            -1  \n",
       "3       0.0            -1  \n",
       "4      -0.6            -1  "
      ]
     },
     "execution_count": 20,
     "metadata": {},
     "output_type": "execute_result"
    }
   ],
   "source": [
    "# Printing the first 5 rows of Positive value\n",
    "Negative_value.head()"
   ]
  },
  {
   "cell_type": "code",
   "execution_count": 21,
   "id": "6b838783",
   "metadata": {},
   "outputs": [
    {
     "data": {
      "text/plain": [
       "'aapl beat'"
      ]
     },
     "execution_count": 21,
     "metadata": {},
     "output_type": "execute_result"
    }
   ],
   "source": [
    "Negative_value['message'][40]"
   ]
  },
  {
   "cell_type": "code",
   "execution_count": 22,
   "id": "8ed336d7",
   "metadata": {},
   "outputs": [
    {
     "data": {
      "text/plain": [
       "-1    1662303\n",
       " 1     904555\n",
       "Name: Cat_Polarity, dtype: int64"
      ]
     },
     "execution_count": 22,
     "metadata": {},
     "output_type": "execute_result"
    },
    {
     "data": {
      "image/png": "[encoded data removed]",
      "text/plain": [
       "<Figure size 432x288 with 1 Axes>"
      ]
     },
     "metadata": {
      "needs_background": "light"
     },
     "output_type": "display_data"
    }
   ],
   "source": [
    "# Plotting the count of Negative value and the positive value\n",
    "FAANG_binary.Cat_Polarity.value_counts().plot.bar()\n",
    "FAANG_binary.Cat_Polarity.value_counts()"
   ]
  },
  {
   "cell_type": "markdown",
   "id": "edaae491",
   "metadata": {},
   "source": [
    "As we can see from the above barplot, the count for the negative values and positive values\n",
    "\n",
    "Total Count - 2566858\n",
    "1. Negative value - 1662303 [-1]\n",
    "2. Positive value - 904555  [+1]"
   ]
  },
  {
   "cell_type": "markdown",
   "id": "fa32038d",
   "metadata": {},
   "source": [
    "### Data Preprocessing"
   ]
  },
  {
   "cell_type": "code",
   "execution_count": 23,
   "id": "7d80d4b2",
   "metadata": {},
   "outputs": [],
   "source": [
    "#Lower the text in comments\n",
    "FAANG_binary['message'] = FAANG_binary['message'].str.lower()"
   ]
  },
  {
   "cell_type": "code",
   "execution_count": 24,
   "id": "e85e8145",
   "metadata": {},
   "outputs": [
    {
     "data": {
      "text/plain": [
       "0                                 aapl huh 39 happened\n",
       "1    google yahoo search partnership may add shareh...\n",
       "2                     aapl 39 done 180 easy div payout\n",
       "3    twtr cramer likes twitter takeover thinks prob...\n",
       "4    aapl 912 dow jones points week nice risk manag...\n",
       "5    amzn msft aapl played trump giving insider inf...\n",
       "6                             aapl hope algos go crazy\n",
       "7    aapl amzn apple wil start pay taxes europe ful...\n",
       "8                           amzn netflix earnings thur\n",
       "9          jim cramer simply many ways win amazon aapl\n",
       "Name: message, dtype: object"
      ]
     },
     "execution_count": 24,
     "metadata": {},
     "output_type": "execute_result"
    }
   ],
   "source": [
    "# Displaying the first 10 rows of the dataset\n",
    "FAANG_binary['message'].head(10)"
   ]
  },
  {
   "cell_type": "code",
   "execution_count": 25,
   "id": "b3c38be2",
   "metadata": {},
   "outputs": [
    {
     "data": {
      "text/html": [
       "<div>\n",
       "<style scoped>\n",
       "    .dataframe tbody tr th:only-of-type {\n",
       "        vertical-align: middle;\n",
       "    }\n",
       "\n",
       "    .dataframe tbody tr th {\n",
       "        vertical-align: top;\n",
       "    }\n",
       "\n",
       "    .dataframe thead th {\n",
       "        text-align: right;\n",
       "    }\n",
       "</style>\n",
       "<table border=\"1\" class=\"dataframe\">\n",
       "  <thead>\n",
       "    <tr style=\"text-align: right;\">\n",
       "      <th></th>\n",
       "      <th>label</th>\n",
       "      <th>polarity</th>\n",
       "      <th>Cat_Polarity</th>\n",
       "    </tr>\n",
       "  </thead>\n",
       "  <tbody>\n",
       "    <tr>\n",
       "      <th>count</th>\n",
       "      <td>2.566858e+06</td>\n",
       "      <td>2.566858e+06</td>\n",
       "      <td>2.566858e+06</td>\n",
       "    </tr>\n",
       "    <tr>\n",
       "      <th>mean</th>\n",
       "      <td>5.287067e-01</td>\n",
       "      <td>7.348867e-02</td>\n",
       "      <td>-2.952045e-01</td>\n",
       "    </tr>\n",
       "    <tr>\n",
       "      <th>std</th>\n",
       "      <td>4.991753e-01</td>\n",
       "      <td>2.574732e-01</td>\n",
       "      <td>9.554343e-01</td>\n",
       "    </tr>\n",
       "    <tr>\n",
       "      <th>min</th>\n",
       "      <td>0.000000e+00</td>\n",
       "      <td>-1.000000e+00</td>\n",
       "      <td>-1.000000e+00</td>\n",
       "    </tr>\n",
       "    <tr>\n",
       "      <th>25%</th>\n",
       "      <td>0.000000e+00</td>\n",
       "      <td>0.000000e+00</td>\n",
       "      <td>-1.000000e+00</td>\n",
       "    </tr>\n",
       "    <tr>\n",
       "      <th>50%</th>\n",
       "      <td>1.000000e+00</td>\n",
       "      <td>0.000000e+00</td>\n",
       "      <td>-1.000000e+00</td>\n",
       "    </tr>\n",
       "    <tr>\n",
       "      <th>75%</th>\n",
       "      <td>1.000000e+00</td>\n",
       "      <td>1.600000e-01</td>\n",
       "      <td>1.000000e+00</td>\n",
       "    </tr>\n",
       "    <tr>\n",
       "      <th>max</th>\n",
       "      <td>1.000000e+00</td>\n",
       "      <td>1.000000e+00</td>\n",
       "      <td>1.000000e+00</td>\n",
       "    </tr>\n",
       "  </tbody>\n",
       "</table>\n",
       "</div>"
      ],
      "text/plain": [
       "              label      polarity  Cat_Polarity\n",
       "count  2.566858e+06  2.566858e+06  2.566858e+06\n",
       "mean   5.287067e-01  7.348867e-02 -2.952045e-01\n",
       "std    4.991753e-01  2.574732e-01  9.554343e-01\n",
       "min    0.000000e+00 -1.000000e+00 -1.000000e+00\n",
       "25%    0.000000e+00  0.000000e+00 -1.000000e+00\n",
       "50%    1.000000e+00  0.000000e+00 -1.000000e+00\n",
       "75%    1.000000e+00  1.600000e-01  1.000000e+00\n",
       "max    1.000000e+00  1.000000e+00  1.000000e+00"
      ]
     },
     "execution_count": 25,
     "metadata": {},
     "output_type": "execute_result"
    }
   ],
   "source": [
    "# Pandas describe() is used to view some basic statistical details like percentile, mean, std etc \n",
    "FAANG_binary.describe()"
   ]
  },
  {
   "cell_type": "code",
   "execution_count": 26,
   "id": "9c72c418",
   "metadata": {},
   "outputs": [
    {
     "name": "stdout",
     "output_type": "stream",
     "text": [
      "<class 'pandas.core.frame.DataFrame'>\n",
      "RangeIndex: 2566858 entries, 0 to 2566857\n",
      "Data columns (total 5 columns):\n",
      " #   Column        Dtype  \n",
      "---  ------        -----  \n",
      " 0   message       object \n",
      " 1   Date          object \n",
      " 2   label         int64  \n",
      " 3   polarity      float64\n",
      " 4   Cat_Polarity  int64  \n",
      "dtypes: float64(1), int64(2), object(2)\n",
      "memory usage: 97.9+ MB\n"
     ]
    }
   ],
   "source": [
    "## Find the information about the given DataFrame including the index dtype and column dtypes, non-null\n",
    "FAANG_binary.info()"
   ]
  },
  {
   "cell_type": "code",
   "execution_count": 27,
   "id": "adcba0a4",
   "metadata": {},
   "outputs": [
    {
     "data": {
      "text/plain": [
       "'aapl huh 39 happened'"
      ]
     },
     "execution_count": 27,
     "metadata": {},
     "output_type": "execute_result"
    }
   ],
   "source": [
    "FAANG_binary['message'][0]"
   ]
  },
  {
   "cell_type": "code",
   "execution_count": 28,
   "id": "c906cfb1",
   "metadata": {},
   "outputs": [
    {
     "data": {
      "text/plain": [
       "'aapl huh 39 happened'"
      ]
     },
     "execution_count": 28,
     "metadata": {},
     "output_type": "execute_result"
    }
   ],
   "source": [
    "FAANG_binary['message'][0].strip()"
   ]
  },
  {
   "cell_type": "code",
   "execution_count": 29,
   "id": "b99f2cf0",
   "metadata": {},
   "outputs": [
    {
     "name": "stderr",
     "output_type": "stream",
     "text": [
      "[nltk_data] Downloading package stopwords to C:\\Users\\SAMARTH P\n",
      "[nltk_data]     SHET\\AppData\\Roaming\\nltk_data...\n",
      "[nltk_data]   Package stopwords is already up-to-date!\n"
     ]
    },
    {
     "data": {
      "text/plain": [
       "True"
      ]
     },
     "execution_count": 29,
     "metadata": {},
     "output_type": "execute_result"
    }
   ],
   "source": [
    "# Natural Language Toolkit, is a Python package that one use for NLP.\n",
    "import nltk\n",
    "nltk.download(\"stopwords\")"
   ]
  },
  {
   "cell_type": "code",
   "execution_count": 30,
   "id": "c2ed65ac",
   "metadata": {},
   "outputs": [
    {
     "name": "stderr",
     "output_type": "stream",
     "text": [
      "[nltk_data] Downloading package punkt to C:\\Users\\SAMARTH P\n",
      "[nltk_data]     SHET\\AppData\\Roaming\\nltk_data...\n",
      "[nltk_data]   Package punkt is already up-to-date!\n"
     ]
    },
    {
     "data": {
      "text/plain": [
       "True"
      ]
     },
     "execution_count": 30,
     "metadata": {},
     "output_type": "execute_result"
    }
   ],
   "source": [
    "# Punkt Sentence Tokenizer divides a text into a list of sentences, \n",
    "# by using an unsupervised algorithm to build a model for abbreviation words\n",
    "nltk.download(\"punkt\")"
   ]
  },
  {
   "cell_type": "code",
   "execution_count": 31,
   "id": "ee34dfca",
   "metadata": {},
   "outputs": [],
   "source": [
    "from nltk.corpus import stopwords\n",
    "from nltk import word_tokenize\n",
    "import string\n",
    "import re\n",
    "import nltk"
   ]
  },
  {
   "cell_type": "code",
   "execution_count": 32,
   "id": "f7c7caef",
   "metadata": {},
   "outputs": [
    {
     "name": "stdout",
     "output_type": "stream",
     "text": [
      "['i', 'me', 'my', 'myself', 'we', 'our', 'ours', 'ourselves', 'you', \"you're\", \"you've\", \"you'll\", \"you'd\", 'your', 'yours', 'yourself', 'yourselves', 'he', 'him', 'his', 'himself', 'she', \"she's\", 'her', 'hers', 'herself', 'it', \"it's\", 'its', 'itself', 'they', 'them', 'their', 'theirs', 'themselves', 'what', 'which', 'who', 'whom', 'this', 'that', \"that'll\", 'these', 'those', 'am', 'is', 'are', 'was', 'were', 'be', 'been', 'being', 'have', 'has', 'had', 'having', 'do', 'does', 'did', 'doing', 'a', 'an', 'the', 'and', 'but', 'if', 'or', 'because', 'as', 'until', 'while', 'of', 'at', 'by', 'for', 'with', 'about', 'against', 'between', 'into', 'through', 'during', 'before', 'after', 'above', 'below', 'to', 'from', 'up', 'down', 'in', 'out', 'on', 'off', 'over', 'under', 'again', 'further', 'then', 'once', 'here', 'there', 'when', 'where', 'why', 'how', 'all', 'any', 'both', 'each', 'few', 'more', 'most', 'other', 'some', 'such', 'no', 'nor', 'not', 'only', 'own', 'same', 'so', 'than', 'too', 'very', 's', 't', 'can', 'will', 'just', 'don', \"don't\", 'should', \"should've\", 'now', 'd', 'll', 'm', 'o', 're', 've', 'y', 'ain', 'aren', \"aren't\", 'couldn', \"couldn't\", 'didn', \"didn't\", 'doesn', \"doesn't\", 'hadn', \"hadn't\", 'hasn', \"hasn't\", 'haven', \"haven't\", 'isn', \"isn't\", 'ma', 'mightn', \"mightn't\", 'mustn', \"mustn't\", 'needn', \"needn't\", 'shan', \"shan't\", 'shouldn', \"shouldn't\", 'wasn', \"wasn't\", 'weren', \"weren't\", 'won', \"won't\", 'wouldn', \"wouldn't\"]\n"
     ]
    }
   ],
   "source": [
    "print(stopwords.words('english'))"
   ]
  },
  {
   "cell_type": "code",
   "execution_count": 33,
   "id": "84e923cb",
   "metadata": {},
   "outputs": [],
   "source": [
    "stop_words = set(stopwords.words('english'))"
   ]
  },
  {
   "cell_type": "code",
   "execution_count": 34,
   "id": "1bbeb123",
   "metadata": {},
   "outputs": [],
   "source": [
    "FAANG_binary['message'] = FAANG_binary['message'].str.strip()"
   ]
  },
  {
   "cell_type": "code",
   "execution_count": 35,
   "id": "b2e73a15",
   "metadata": {},
   "outputs": [],
   "source": [
    "train = FAANG_binary.copy()"
   ]
  },
  {
   "cell_type": "code",
   "execution_count": 36,
   "id": "9499fbc6",
   "metadata": {},
   "outputs": [],
   "source": [
    "train['message'] = train['message'].str.strip()"
   ]
  },
  {
   "cell_type": "code",
   "execution_count": 37,
   "id": "508ca84f",
   "metadata": {},
   "outputs": [
    {
     "data": {
      "text/plain": [
       "'aapl huh 39 happened'"
      ]
     },
     "execution_count": 37,
     "metadata": {},
     "output_type": "execute_result"
    }
   ],
   "source": [
    "train['message'][0]"
   ]
  },
  {
   "cell_type": "code",
   "execution_count": 38,
   "id": "1ddf052c",
   "metadata": {},
   "outputs": [],
   "source": [
    "def remove_stopwords(line):\n",
    "    word_tokens = word_tokenize(line)\n",
    "    filtered_sentence = [w for w in word_tokens if not w in stop_words]\n",
    "    return \" \".join(filtered_sentence)"
   ]
  },
  {
   "cell_type": "code",
   "execution_count": 39,
   "id": "c97a1611",
   "metadata": {},
   "outputs": [],
   "source": [
    "FAANG_binary['stop_comments'] = FAANG_binary['message'].apply(lambda x : remove_stopwords(x))"
   ]
  },
  {
   "cell_type": "code",
   "execution_count": 40,
   "id": "5088fe5d",
   "metadata": {},
   "outputs": [
    {
     "data": {
      "text/html": [
       "<div>\n",
       "<style scoped>\n",
       "    .dataframe tbody tr th:only-of-type {\n",
       "        vertical-align: middle;\n",
       "    }\n",
       "\n",
       "    .dataframe tbody tr th {\n",
       "        vertical-align: top;\n",
       "    }\n",
       "\n",
       "    .dataframe thead th {\n",
       "        text-align: right;\n",
       "    }\n",
       "</style>\n",
       "<table border=\"1\" class=\"dataframe\">\n",
       "  <thead>\n",
       "    <tr style=\"text-align: right;\">\n",
       "      <th></th>\n",
       "      <th>message</th>\n",
       "      <th>Date</th>\n",
       "      <th>label</th>\n",
       "      <th>polarity</th>\n",
       "      <th>Cat_Polarity</th>\n",
       "      <th>stop_comments</th>\n",
       "    </tr>\n",
       "  </thead>\n",
       "  <tbody>\n",
       "    <tr>\n",
       "      <th>0</th>\n",
       "      <td>aapl huh 39 happened</td>\n",
       "      <td>2015-11-12</td>\n",
       "      <td>0</td>\n",
       "      <td>0.000000</td>\n",
       "      <td>-1</td>\n",
       "      <td>aapl huh 39 happened</td>\n",
       "    </tr>\n",
       "    <tr>\n",
       "      <th>1</th>\n",
       "      <td>google yahoo search partnership may add shareh...</td>\n",
       "      <td>2015-07-10</td>\n",
       "      <td>1</td>\n",
       "      <td>0.000000</td>\n",
       "      <td>-1</td>\n",
       "      <td>google yahoo search partnership may add shareh...</td>\n",
       "    </tr>\n",
       "    <tr>\n",
       "      <th>2</th>\n",
       "      <td>aapl 39 done 180 easy div payout</td>\n",
       "      <td>2018-05-15</td>\n",
       "      <td>0</td>\n",
       "      <td>0.433333</td>\n",
       "      <td>1</td>\n",
       "      <td>aapl 39 done 180 easy div payout</td>\n",
       "    </tr>\n",
       "    <tr>\n",
       "      <th>3</th>\n",
       "      <td>twtr cramer likes twitter takeover thinks prob...</td>\n",
       "      <td>2015-06-16</td>\n",
       "      <td>1</td>\n",
       "      <td>0.000000</td>\n",
       "      <td>-1</td>\n",
       "      <td>twtr cramer likes twitter takeover thinks prob...</td>\n",
       "    </tr>\n",
       "    <tr>\n",
       "      <th>4</th>\n",
       "      <td>aapl 912 dow jones points week nice risk manag...</td>\n",
       "      <td>2016-01-07</td>\n",
       "      <td>0</td>\n",
       "      <td>0.442857</td>\n",
       "      <td>1</td>\n",
       "      <td>aapl 912 dow jones points week nice risk manag...</td>\n",
       "    </tr>\n",
       "  </tbody>\n",
       "</table>\n",
       "</div>"
      ],
      "text/plain": [
       "                                             message        Date  label  \\\n",
       "0                               aapl huh 39 happened  2015-11-12      0   \n",
       "1  google yahoo search partnership may add shareh...  2015-07-10      1   \n",
       "2                   aapl 39 done 180 easy div payout  2018-05-15      0   \n",
       "3  twtr cramer likes twitter takeover thinks prob...  2015-06-16      1   \n",
       "4  aapl 912 dow jones points week nice risk manag...  2016-01-07      0   \n",
       "\n",
       "   polarity  Cat_Polarity                                      stop_comments  \n",
       "0  0.000000            -1                               aapl huh 39 happened  \n",
       "1  0.000000            -1  google yahoo search partnership may add shareh...  \n",
       "2  0.433333             1                   aapl 39 done 180 easy div payout  \n",
       "3  0.000000            -1  twtr cramer likes twitter takeover thinks prob...  \n",
       "4  0.442857             1  aapl 912 dow jones points week nice risk manag...  "
      ]
     },
     "execution_count": 40,
     "metadata": {},
     "output_type": "execute_result"
    }
   ],
   "source": [
    "FAANG_binary.head()"
   ]
  },
  {
   "cell_type": "code",
   "execution_count": 41,
   "id": "d3c29e79",
   "metadata": {},
   "outputs": [],
   "source": [
    "from sklearn.model_selection import train_test_split"
   ]
  },
  {
   "cell_type": "code",
   "execution_count": 42,
   "id": "115348c6",
   "metadata": {},
   "outputs": [],
   "source": [
    "X_train,X_test,y_train,y_test = train_test_split(FAANG_binary['stop_comments'],\n",
    "                                                 FAANG_binary['Cat_Polarity'],\n",
    "                                                 test_size = 0.2,random_state = 324)"
   ]
  },
  {
   "cell_type": "code",
   "execution_count": 43,
   "id": "4121a56a",
   "metadata": {},
   "outputs": [
    {
     "data": {
      "text/plain": [
       "(2053486,)"
      ]
     },
     "execution_count": 43,
     "metadata": {},
     "output_type": "execute_result"
    }
   ],
   "source": [
    "X_train.shape"
   ]
  },
  {
   "cell_type": "code",
   "execution_count": 44,
   "id": "a89364c1",
   "metadata": {},
   "outputs": [
    {
     "data": {
      "text/plain": [
       "(513372,)"
      ]
     },
     "execution_count": 44,
     "metadata": {},
     "output_type": "execute_result"
    }
   ],
   "source": [
    "X_test.shape"
   ]
  },
  {
   "cell_type": "code",
   "execution_count": 45,
   "id": "eb500327",
   "metadata": {},
   "outputs": [
    {
     "data": {
      "text/plain": [
       "-1    1662303\n",
       " 1     904555\n",
       "Name: Cat_Polarity, dtype: int64"
      ]
     },
     "execution_count": 45,
     "metadata": {},
     "output_type": "execute_result"
    }
   ],
   "source": [
    "FAANG_binary['Cat_Polarity'].value_counts()"
   ]
  },
  {
   "cell_type": "markdown",
   "id": "014942eb",
   "metadata": {},
   "source": [
    "### Implementing Logistic Regression"
   ]
  },
  {
   "cell_type": "code",
   "execution_count": 46,
   "id": "e5998109",
   "metadata": {},
   "outputs": [],
   "source": [
    "from sklearn.feature_extraction.text import CountVectorizer, TfidfVectorizer \n",
    "vect = CountVectorizer()\n",
    "tf_train = vect.fit_transform(X_train)\n",
    "tf_test = vect.transform(X_test)"
   ]
  },
  {
   "cell_type": "code",
   "execution_count": 47,
   "id": "1b515238",
   "metadata": {},
   "outputs": [
    {
     "data": {
      "text/plain": [
       "(2053486, 162815)"
      ]
     },
     "execution_count": 47,
     "metadata": {},
     "output_type": "execute_result"
    }
   ],
   "source": [
    "tf_train.shape"
   ]
  },
  {
   "cell_type": "code",
   "execution_count": 49,
   "id": "d232fe87",
   "metadata": {},
   "outputs": [
    {
     "data": {
      "text/plain": [
       "LogisticRegression()"
      ]
     },
     "execution_count": 49,
     "metadata": {},
     "output_type": "execute_result"
    }
   ],
   "source": [
    "#import Logistic Regression classifer and fit on the Training dataset\n",
    "from sklearn.linear_model import LogisticRegression\n",
    "lr = LogisticRegression()\n",
    "lr.fit(tf_train,y_train)"
   ]
  },
  {
   "cell_type": "code",
   "execution_count": 50,
   "id": "6d3aad4b",
   "metadata": {},
   "outputs": [
    {
     "data": {
      "text/plain": [
       "0.9906446890799353"
      ]
     },
     "execution_count": 50,
     "metadata": {},
     "output_type": "execute_result"
    }
   ],
   "source": [
    "# Accuracy score on training dataset\n",
    "lr.score(tf_train,y_train)"
   ]
  },
  {
   "cell_type": "code",
   "execution_count": 51,
   "id": "2ca38c8f",
   "metadata": {},
   "outputs": [
    {
     "data": {
      "text/plain": [
       "0.9892826254645753"
      ]
     },
     "execution_count": 51,
     "metadata": {},
     "output_type": "execute_result"
    }
   ],
   "source": [
    "# Accuracy on Test FAANG_binaryset\n",
    "lr.score(tf_test,y_test)"
   ]
  },
  {
   "cell_type": "code",
   "execution_count": 52,
   "id": "c385076e",
   "metadata": {},
   "outputs": [],
   "source": [
    "# Performing prediction on Test dataset\n",
    "expected = y_test\n",
    "predicted = lr.predict(tf_test)"
   ]
  },
  {
   "cell_type": "code",
   "execution_count": 53,
   "id": "765d64b5",
   "metadata": {},
   "outputs": [],
   "source": [
    "# plot confusion matrix for the test dataset\n",
    "from mlxtend.plotting import plot_confusion_matrix\n",
    "import matplotlib.pyplot as plt\n",
    "import numpy as np"
   ]
  },
  {
   "cell_type": "code",
   "execution_count": 54,
   "id": "8730d76b",
   "metadata": {},
   "outputs": [],
   "source": [
    "from sklearn import metrics\n",
    "from mlxtend.plotting import plot_confusion_matrix"
   ]
  },
  {
   "cell_type": "code",
   "execution_count": 55,
   "id": "d4d5f4be",
   "metadata": {},
   "outputs": [
    {
     "name": "stdout",
     "output_type": "stream",
     "text": [
      "[[178510   2535]\n",
      " [  2967 329360]]\n"
     ]
    },
    {
     "data": {
      "image/png": "[encoded data removed]",
      "text/plain": [
       "<Figure size 432x288 with 1 Axes>"
      ]
     },
     "metadata": {
      "needs_background": "light"
     },
     "output_type": "display_data"
    }
   ],
   "source": [
    "# plotting the confusion matrix\n",
    "cf = metrics.confusion_matrix(expected,predicted,labels = [1,-1])\n",
    "print(cf)\n",
    "fig, ax = plot_confusion_matrix(conf_mat = cf)\n",
    "plt.show()"
   ]
  },
  {
   "cell_type": "code",
   "execution_count": 56,
   "id": "de831292",
   "metadata": {},
   "outputs": [
    {
     "name": "stdout",
     "output_type": "stream",
     "text": [
      "              precision    recall  f1-score   support\n",
      "\n",
      "          -1       0.99      0.99      0.99    332327\n",
      "           1       0.98      0.99      0.98    181045\n",
      "\n",
      "    accuracy                           0.99    513372\n",
      "   macro avg       0.99      0.99      0.99    513372\n",
      "weighted avg       0.99      0.99      0.99    513372\n",
      "\n",
      "Confusion Matrix:  [[329360   2967]\n",
      " [  2535 178510]]\n"
     ]
    }
   ],
   "source": [
    "print(metrics.classification_report(expected, predicted))\n",
    "print(\"Confusion Matrix: \",metrics.confusion_matrix(expected,predicted))"
   ]
  },
  {
   "cell_type": "code",
   "execution_count": 57,
   "id": "e3e1e797",
   "metadata": {},
   "outputs": [
    {
     "data": {
      "text/plain": [
       "0.9882698074581957"
      ]
     },
     "execution_count": 57,
     "metadata": {},
     "output_type": "execute_result"
    }
   ],
   "source": [
    "# Calculating F1 score\n",
    "from sklearn.metrics import f1_score\n",
    "f1_score(expected, predicted, average='macro')"
   ]
  }
 ],
 "metadata": {
  "kernelspec": {
   "display_name": "Python 3",
   "language": "python",
   "name": "python3"
  },
  "language_info": {
   "codemirror_mode": {
    "name": "ipython",
    "version": 3
   },
   "file_extension": ".py",
   "mimetype": "text/x-python",
   "name": "python",
   "nbconvert_exporter": "python",
   "pygments_lexer": "ipython3",
   "version": "3.8.8"
  }
 },
 "nbformat": 4,
 "nbformat_minor": 5
}
