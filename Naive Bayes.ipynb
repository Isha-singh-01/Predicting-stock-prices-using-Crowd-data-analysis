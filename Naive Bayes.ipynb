{
 "cells": [
  {
   "cell_type": "markdown",
   "id": "e6220394",
   "metadata": {},
   "source": [
    "# Naive Bayes on Dow Jones Industrial Average Historical Data"
   ]
  },
  {
   "cell_type": "markdown",
   "id": "106dfcec",
   "metadata": {},
   "source": [
    "Dow Jones average is an average of stock prices calculated by Dow Jones & Company, Inc. \n",
    "\n",
    "In the United States, the averages are one of the most widely used gauges of broad trends in stock and bond prices. \n",
    "\n",
    "In 1896, Dow Jones & Company, a financial news publisher founded by Charles Henry Dow and Edward D. Jones, started generating a daily industrials average by dividing the total price of 12 companies by 12. \n",
    "\n",
    "Since then, the list of stocks has been expanded, and the divisor has been modified to account for stock splits, stock replacements, and major dividend adjustments. As a result, the averages are not arithmetical means, but rather averages intended to show broad market price patterns."
   ]
  },
  {
   "cell_type": "markdown",
   "id": "08b4b962",
   "metadata": {},
   "source": [
    "```Dataset:``` https://www.kaggle.com/mnassrib/dow-jones-industrial-average "
   ]
  },
  {
   "cell_type": "markdown",
   "id": "9d7ce380",
   "metadata": {},
   "source": [
    "### Importing the required libraries!"
   ]
  },
  {
   "cell_type": "markdown",
   "id": "8b8434f2",
   "metadata": {},
   "source": [
    "1. importing numpy to perform various mathematcial operations on arrays.\n",
    "2. importing pandas for performing data manipulation and analysis.\n",
    "3. importing matplotlib to generate line plots,scatter plots,histogram."
   ]
  },
  {
   "cell_type": "code",
   "execution_count": 1,
   "id": "4c0c0a22",
   "metadata": {},
   "outputs": [],
   "source": [
    "# importing the libraries related to the data manipulation.\n",
    "import numpy as np\n",
    "import pandas as pd\n",
    "\n",
    "# importing the libraries related to the data_visualization\n",
    "import seaborn as sns\n",
    "import matplotlib.pyplot as plt"
   ]
  },
  {
   "cell_type": "markdown",
   "id": "552a9267",
   "metadata": {},
   "source": [
    "### Loading the Dataset!"
   ]
  },
  {
   "cell_type": "code",
   "execution_count": 2,
   "id": "c08152db",
   "metadata": {},
   "outputs": [
    {
     "data": {
      "text/html": [
       "<div>\n",
       "<style scoped>\n",
       "    .dataframe tbody tr th:only-of-type {\n",
       "        vertical-align: middle;\n",
       "    }\n",
       "\n",
       "    .dataframe tbody tr th {\n",
       "        vertical-align: top;\n",
       "    }\n",
       "\n",
       "    .dataframe thead th {\n",
       "        text-align: right;\n",
       "    }\n",
       "</style>\n",
       "<table border=\"1\" class=\"dataframe\">\n",
       "  <thead>\n",
       "    <tr style=\"text-align: right;\">\n",
       "      <th></th>\n",
       "      <th>Price</th>\n",
       "      <th>Open</th>\n",
       "      <th>High</th>\n",
       "      <th>Low</th>\n",
       "      <th>Vol.</th>\n",
       "      <th>Change %</th>\n",
       "    </tr>\n",
       "    <tr>\n",
       "      <th>Date</th>\n",
       "      <th></th>\n",
       "      <th></th>\n",
       "      <th></th>\n",
       "      <th></th>\n",
       "      <th></th>\n",
       "      <th></th>\n",
       "    </tr>\n",
       "  </thead>\n",
       "  <tbody>\n",
       "    <tr>\n",
       "      <th>2019-12-31</th>\n",
       "      <td>28,538.44</td>\n",
       "      <td>28,414.64</td>\n",
       "      <td>28,547.35</td>\n",
       "      <td>28,376.49</td>\n",
       "      <td>193.34M</td>\n",
       "      <td>0.27%</td>\n",
       "    </tr>\n",
       "    <tr>\n",
       "      <th>2019-12-30</th>\n",
       "      <td>28,462.14</td>\n",
       "      <td>28,654.76</td>\n",
       "      <td>28,664.69</td>\n",
       "      <td>28,428.98</td>\n",
       "      <td>185.07M</td>\n",
       "      <td>-0.64%</td>\n",
       "    </tr>\n",
       "    <tr>\n",
       "      <th>2019-12-27</th>\n",
       "      <td>28,645.26</td>\n",
       "      <td>28,675.34</td>\n",
       "      <td>28,701.66</td>\n",
       "      <td>28,608.98</td>\n",
       "      <td>184.93M</td>\n",
       "      <td>0.08%</td>\n",
       "    </tr>\n",
       "    <tr>\n",
       "      <th>2019-12-26</th>\n",
       "      <td>28,621.39</td>\n",
       "      <td>28,539.46</td>\n",
       "      <td>28,624.10</td>\n",
       "      <td>28,535.15</td>\n",
       "      <td>155.97M</td>\n",
       "      <td>0.37%</td>\n",
       "    </tr>\n",
       "    <tr>\n",
       "      <th>2019-12-24</th>\n",
       "      <td>28,515.45</td>\n",
       "      <td>28,572.57</td>\n",
       "      <td>28,576.80</td>\n",
       "      <td>28,503.21</td>\n",
       "      <td>95.29M</td>\n",
       "      <td>-0.13%</td>\n",
       "    </tr>\n",
       "    <tr>\n",
       "      <th>...</th>\n",
       "      <td>...</td>\n",
       "      <td>...</td>\n",
       "      <td>...</td>\n",
       "      <td>...</td>\n",
       "      <td>...</td>\n",
       "      <td>...</td>\n",
       "    </tr>\n",
       "    <tr>\n",
       "      <th>2009-01-09</th>\n",
       "      <td>8,599.18</td>\n",
       "      <td>8,738.80</td>\n",
       "      <td>8,800.45</td>\n",
       "      <td>8,541.75</td>\n",
       "      <td>-</td>\n",
       "      <td>-1.64%</td>\n",
       "    </tr>\n",
       "    <tr>\n",
       "      <th>2009-01-08</th>\n",
       "      <td>8,742.46</td>\n",
       "      <td>8,769.94</td>\n",
       "      <td>8,807.14</td>\n",
       "      <td>8,593.52</td>\n",
       "      <td>-</td>\n",
       "      <td>-0.31%</td>\n",
       "    </tr>\n",
       "    <tr>\n",
       "      <th>2009-01-07</th>\n",
       "      <td>8,769.70</td>\n",
       "      <td>8,996.94</td>\n",
       "      <td>8,996.94</td>\n",
       "      <td>8,690.45</td>\n",
       "      <td>-</td>\n",
       "      <td>-2.72%</td>\n",
       "    </tr>\n",
       "    <tr>\n",
       "      <th>2009-01-06</th>\n",
       "      <td>9,015.10</td>\n",
       "      <td>8,954.57</td>\n",
       "      <td>9,175.19</td>\n",
       "      <td>8,868.07</td>\n",
       "      <td>-</td>\n",
       "      <td>0.69%</td>\n",
       "    </tr>\n",
       "    <tr>\n",
       "      <th>2009-01-05</th>\n",
       "      <td>8,952.89</td>\n",
       "      <td>9,027.13</td>\n",
       "      <td>9,093.47</td>\n",
       "      <td>8,841.70</td>\n",
       "      <td>-</td>\n",
       "      <td>-0.91%</td>\n",
       "    </tr>\n",
       "  </tbody>\n",
       "</table>\n",
       "<p>2766 rows × 6 columns</p>\n",
       "</div>"
      ],
      "text/plain": [
       "                Price       Open       High        Low     Vol. Change %\n",
       "Date                                                                    \n",
       "2019-12-31  28,538.44  28,414.64  28,547.35  28,376.49  193.34M    0.27%\n",
       "2019-12-30  28,462.14  28,654.76  28,664.69  28,428.98  185.07M   -0.64%\n",
       "2019-12-27  28,645.26  28,675.34  28,701.66  28,608.98  184.93M    0.08%\n",
       "2019-12-26  28,621.39  28,539.46  28,624.10  28,535.15  155.97M    0.37%\n",
       "2019-12-24  28,515.45  28,572.57  28,576.80  28,503.21   95.29M   -0.13%\n",
       "...               ...        ...        ...        ...      ...      ...\n",
       "2009-01-09   8,599.18   8,738.80   8,800.45   8,541.75        -   -1.64%\n",
       "2009-01-08   8,742.46   8,769.94   8,807.14   8,593.52        -   -0.31%\n",
       "2009-01-07   8,769.70   8,996.94   8,996.94   8,690.45        -   -2.72%\n",
       "2009-01-06   9,015.10   8,954.57   9,175.19   8,868.07        -    0.69%\n",
       "2009-01-05   8,952.89   9,027.13   9,093.47   8,841.70        -   -0.91%\n",
       "\n",
       "[2766 rows x 6 columns]"
      ]
     },
     "execution_count": 2,
     "metadata": {},
     "output_type": "execute_result"
    }
   ],
   "source": [
    "# datapath = E:\\DOWNLOADS\\Dow Jones Industrial Average Historical Data.csv\n",
    "Dow_Jones = pd.read_csv(r'E:\\DOWNLOADS\\Dow Jones Industrial Average Historical Data.csv',index_col=0,parse_dates=['Date'])\n",
    "Dow_Jones"
   ]
  },
  {
   "cell_type": "code",
   "execution_count": 3,
   "id": "0fdb4935",
   "metadata": {},
   "outputs": [
    {
     "data": {
      "text/plain": [
       "(2766, 6)"
      ]
     },
     "execution_count": 3,
     "metadata": {},
     "output_type": "execute_result"
    }
   ],
   "source": [
    "# shape of the dataset\n",
    "Dow_Jones.shape"
   ]
  },
  {
   "cell_type": "code",
   "execution_count": 4,
   "id": "7866508d",
   "metadata": {},
   "outputs": [
    {
     "name": "stdout",
     "output_type": "stream",
     "text": [
      "<class 'pandas.core.frame.DataFrame'>\n",
      "DatetimeIndex: 2766 entries, 2019-12-31 to 2009-01-05\n",
      "Data columns (total 6 columns):\n",
      " #   Column    Non-Null Count  Dtype \n",
      "---  ------    --------------  ----- \n",
      " 0   Price     2766 non-null   object\n",
      " 1   Open      2766 non-null   object\n",
      " 2   High      2766 non-null   object\n",
      " 3   Low       2766 non-null   object\n",
      " 4   Vol.      2766 non-null   object\n",
      " 5   Change %  2766 non-null   object\n",
      "dtypes: object(6)\n",
      "memory usage: 151.3+ KB\n"
     ]
    }
   ],
   "source": [
    "# Find the information about the given DataFrame including the index dtype and column dtypes, non-null values and memory usage.\n",
    "Dow_Jones.info()"
   ]
  },
  {
   "cell_type": "code",
   "execution_count": 5,
   "id": "dc945e8f",
   "metadata": {},
   "outputs": [
    {
     "data": {
      "text/plain": [
       "Price       0\n",
       "Open        0\n",
       "High        0\n",
       "Low         0\n",
       "Vol.        0\n",
       "Change %    0\n",
       "dtype: int64"
      ]
     },
     "execution_count": 5,
     "metadata": {},
     "output_type": "execute_result"
    }
   ],
   "source": [
    "# finding the null values present in the given series of object.\n",
    "Dow_Jones.isnull().sum()"
   ]
  },
  {
   "cell_type": "markdown",
   "id": "a21ac844",
   "metadata": {},
   "source": [
    "There are no null or missing values present in the dataset"
   ]
  },
  {
   "cell_type": "code",
   "execution_count": 6,
   "id": "facb4f28",
   "metadata": {},
   "outputs": [],
   "source": [
    "# Replacing the Price Column of the dataset \n",
    "Dow_Jones['Price'] = Dow_Jones['Price'].apply(lambda x: x.replace(',',''))\n",
    "\n",
    "# Replacing the Open Column of the dataset \n",
    "Dow_Jones['Open'] = Dow_Jones['Open'].apply(lambda x: x.replace(',',''))\n",
    "\n",
    "# Replacing the High Column of the dataset \n",
    "Dow_Jones['High'] = Dow_Jones['High'].apply(lambda x: x.replace(',',''))\n",
    "\n",
    "# Replacing the Low Column of the dataset \n",
    "Dow_Jones['Low'] =Dow_Jones['Low'].apply(lambda x: x.replace(',',''))"
   ]
  },
  {
   "cell_type": "markdown",
   "id": "cbd31b7f",
   "metadata": {},
   "source": [
    "As we know that, in the dataframe the ```Dow_Jones[Vol.]``` has the values in form of ```str```, so we will be converting ```str format``` to the ```float format``` for further analysis"
   ]
  },
  {
   "cell_type": "code",
   "execution_count": 7,
   "id": "eefa5c1e",
   "metadata": {},
   "outputs": [],
   "source": [
    "# Spliting the Vol. Feature Eg. 193.4M to 193.4\n",
    "Dow_Jones['Vol.'] = Dow_Jones['Vol.'].str.split(\"M\", n = 1, expand = True)"
   ]
  },
  {
   "cell_type": "code",
   "execution_count": 8,
   "id": "73bdf34b",
   "metadata": {},
   "outputs": [],
   "source": [
    "# Replacing the null values to Zero\n",
    "Dow_Jones['Vol.'] = Dow_Jones['Vol.'].replace(to_replace =[\"-\"], value = 0)"
   ]
  },
  {
   "cell_type": "code",
   "execution_count": 9,
   "id": "05345253",
   "metadata": {},
   "outputs": [
    {
     "data": {
      "text/html": [
       "<div>\n",
       "<style scoped>\n",
       "    .dataframe tbody tr th:only-of-type {\n",
       "        vertical-align: middle;\n",
       "    }\n",
       "\n",
       "    .dataframe tbody tr th {\n",
       "        vertical-align: top;\n",
       "    }\n",
       "\n",
       "    .dataframe thead th {\n",
       "        text-align: right;\n",
       "    }\n",
       "</style>\n",
       "<table border=\"1\" class=\"dataframe\">\n",
       "  <thead>\n",
       "    <tr style=\"text-align: right;\">\n",
       "      <th></th>\n",
       "      <th>Price</th>\n",
       "      <th>Open</th>\n",
       "      <th>High</th>\n",
       "      <th>Low</th>\n",
       "      <th>Vol.</th>\n",
       "      <th>Change %</th>\n",
       "    </tr>\n",
       "    <tr>\n",
       "      <th>Date</th>\n",
       "      <th></th>\n",
       "      <th></th>\n",
       "      <th></th>\n",
       "      <th></th>\n",
       "      <th></th>\n",
       "      <th></th>\n",
       "    </tr>\n",
       "  </thead>\n",
       "  <tbody>\n",
       "    <tr>\n",
       "      <th>2019-12-31</th>\n",
       "      <td>28538.44</td>\n",
       "      <td>28414.64</td>\n",
       "      <td>28547.35</td>\n",
       "      <td>28376.49</td>\n",
       "      <td>193.34</td>\n",
       "      <td>0.27%</td>\n",
       "    </tr>\n",
       "    <tr>\n",
       "      <th>2019-12-30</th>\n",
       "      <td>28462.14</td>\n",
       "      <td>28654.76</td>\n",
       "      <td>28664.69</td>\n",
       "      <td>28428.98</td>\n",
       "      <td>185.07</td>\n",
       "      <td>-0.64%</td>\n",
       "    </tr>\n",
       "    <tr>\n",
       "      <th>2019-12-27</th>\n",
       "      <td>28645.26</td>\n",
       "      <td>28675.34</td>\n",
       "      <td>28701.66</td>\n",
       "      <td>28608.98</td>\n",
       "      <td>184.93</td>\n",
       "      <td>0.08%</td>\n",
       "    </tr>\n",
       "    <tr>\n",
       "      <th>2019-12-26</th>\n",
       "      <td>28621.39</td>\n",
       "      <td>28539.46</td>\n",
       "      <td>28624.10</td>\n",
       "      <td>28535.15</td>\n",
       "      <td>155.97</td>\n",
       "      <td>0.37%</td>\n",
       "    </tr>\n",
       "    <tr>\n",
       "      <th>2019-12-24</th>\n",
       "      <td>28515.45</td>\n",
       "      <td>28572.57</td>\n",
       "      <td>28576.80</td>\n",
       "      <td>28503.21</td>\n",
       "      <td>95.29</td>\n",
       "      <td>-0.13%</td>\n",
       "    </tr>\n",
       "    <tr>\n",
       "      <th>...</th>\n",
       "      <td>...</td>\n",
       "      <td>...</td>\n",
       "      <td>...</td>\n",
       "      <td>...</td>\n",
       "      <td>...</td>\n",
       "      <td>...</td>\n",
       "    </tr>\n",
       "    <tr>\n",
       "      <th>2009-01-09</th>\n",
       "      <td>8599.18</td>\n",
       "      <td>8738.80</td>\n",
       "      <td>8800.45</td>\n",
       "      <td>8541.75</td>\n",
       "      <td>0</td>\n",
       "      <td>-1.64%</td>\n",
       "    </tr>\n",
       "    <tr>\n",
       "      <th>2009-01-08</th>\n",
       "      <td>8742.46</td>\n",
       "      <td>8769.94</td>\n",
       "      <td>8807.14</td>\n",
       "      <td>8593.52</td>\n",
       "      <td>0</td>\n",
       "      <td>-0.31%</td>\n",
       "    </tr>\n",
       "    <tr>\n",
       "      <th>2009-01-07</th>\n",
       "      <td>8769.70</td>\n",
       "      <td>8996.94</td>\n",
       "      <td>8996.94</td>\n",
       "      <td>8690.45</td>\n",
       "      <td>0</td>\n",
       "      <td>-2.72%</td>\n",
       "    </tr>\n",
       "    <tr>\n",
       "      <th>2009-01-06</th>\n",
       "      <td>9015.10</td>\n",
       "      <td>8954.57</td>\n",
       "      <td>9175.19</td>\n",
       "      <td>8868.07</td>\n",
       "      <td>0</td>\n",
       "      <td>0.69%</td>\n",
       "    </tr>\n",
       "    <tr>\n",
       "      <th>2009-01-05</th>\n",
       "      <td>8952.89</td>\n",
       "      <td>9027.13</td>\n",
       "      <td>9093.47</td>\n",
       "      <td>8841.70</td>\n",
       "      <td>0</td>\n",
       "      <td>-0.91%</td>\n",
       "    </tr>\n",
       "  </tbody>\n",
       "</table>\n",
       "<p>2766 rows × 6 columns</p>\n",
       "</div>"
      ],
      "text/plain": [
       "               Price      Open      High       Low    Vol. Change %\n",
       "Date                                                               \n",
       "2019-12-31  28538.44  28414.64  28547.35  28376.49  193.34    0.27%\n",
       "2019-12-30  28462.14  28654.76  28664.69  28428.98  185.07   -0.64%\n",
       "2019-12-27  28645.26  28675.34  28701.66  28608.98  184.93    0.08%\n",
       "2019-12-26  28621.39  28539.46  28624.10  28535.15  155.97    0.37%\n",
       "2019-12-24  28515.45  28572.57  28576.80  28503.21   95.29   -0.13%\n",
       "...              ...       ...       ...       ...     ...      ...\n",
       "2009-01-09   8599.18   8738.80   8800.45   8541.75       0   -1.64%\n",
       "2009-01-08   8742.46   8769.94   8807.14   8593.52       0   -0.31%\n",
       "2009-01-07   8769.70   8996.94   8996.94   8690.45       0   -2.72%\n",
       "2009-01-06   9015.10   8954.57   9175.19   8868.07       0    0.69%\n",
       "2009-01-05   8952.89   9027.13   9093.47   8841.70       0   -0.91%\n",
       "\n",
       "[2766 rows x 6 columns]"
      ]
     },
     "execution_count": 9,
     "metadata": {},
     "output_type": "execute_result"
    }
   ],
   "source": [
    "Dow_Jones"
   ]
  },
  {
   "cell_type": "code",
   "execution_count": 10,
   "id": "c4372bb0",
   "metadata": {},
   "outputs": [],
   "source": [
    "# Conerting the format of the Price Column from object <--> Float\n",
    "Dow_Jones['Price'] = Dow_Jones['Price'].astype(float)\n",
    "\n",
    "# Conerting the format of the Open Column from object <--> Float\n",
    "Dow_Jones['Open'] = Dow_Jones['Open'].astype(float)\n",
    "\n",
    "# Conerting the format of the High Column from object <--> Float\n",
    "Dow_Jones['High'] = Dow_Jones['High'].astype(float)\n",
    "\n",
    "# Conerting the format of the low Column from object <--> Float\n",
    "Dow_Jones['Low'] = Dow_Jones['Low'].astype(float)\n",
    "\n",
    "# Conerting the format of the Vol Column from object <--> float\n",
    "Dow_Jones['Vol.'] = Dow_Jones['Vol.'].astype(float)\n",
    "\n",
    "# Conerting the format of the Change% Column from object <--> str\n",
    "Dow_Jones['Change %'] = Dow_Jones['Change %'].astype(str)"
   ]
  },
  {
   "cell_type": "code",
   "execution_count": 11,
   "id": "293f5548",
   "metadata": {},
   "outputs": [
    {
     "name": "stdout",
     "output_type": "stream",
     "text": [
      "<class 'pandas.core.frame.DataFrame'>\n",
      "DatetimeIndex: 2766 entries, 2019-12-31 to 2009-01-05\n",
      "Data columns (total 6 columns):\n",
      " #   Column    Non-Null Count  Dtype  \n",
      "---  ------    --------------  -----  \n",
      " 0   Price     2766 non-null   float64\n",
      " 1   Open      2766 non-null   float64\n",
      " 2   High      2766 non-null   float64\n",
      " 3   Low       2766 non-null   float64\n",
      " 4   Vol.      2766 non-null   float64\n",
      " 5   Change %  2766 non-null   object \n",
      "dtypes: float64(5), object(1)\n",
      "memory usage: 151.3+ KB\n"
     ]
    }
   ],
   "source": [
    "Dow_Jones.info()"
   ]
  },
  {
   "cell_type": "code",
   "execution_count": 12,
   "id": "bf1004c8",
   "metadata": {},
   "outputs": [
    {
     "data": {
      "text/html": [
       "<div>\n",
       "<style scoped>\n",
       "    .dataframe tbody tr th:only-of-type {\n",
       "        vertical-align: middle;\n",
       "    }\n",
       "\n",
       "    .dataframe tbody tr th {\n",
       "        vertical-align: top;\n",
       "    }\n",
       "\n",
       "    .dataframe thead th {\n",
       "        text-align: right;\n",
       "    }\n",
       "</style>\n",
       "<table border=\"1\" class=\"dataframe\">\n",
       "  <thead>\n",
       "    <tr style=\"text-align: right;\">\n",
       "      <th></th>\n",
       "      <th>Price</th>\n",
       "      <th>Open</th>\n",
       "      <th>High</th>\n",
       "      <th>Low</th>\n",
       "      <th>Vol.</th>\n",
       "    </tr>\n",
       "  </thead>\n",
       "  <tbody>\n",
       "    <tr>\n",
       "      <th>count</th>\n",
       "      <td>2766.000000</td>\n",
       "      <td>2766.000000</td>\n",
       "      <td>2766.000000</td>\n",
       "      <td>2766.000000</td>\n",
       "      <td>2766.000000</td>\n",
       "    </tr>\n",
       "    <tr>\n",
       "      <th>mean</th>\n",
       "      <td>16817.204516</td>\n",
       "      <td>16812.318735</td>\n",
       "      <td>16904.069855</td>\n",
       "      <td>16717.879740</td>\n",
       "      <td>165.163561</td>\n",
       "    </tr>\n",
       "    <tr>\n",
       "      <th>std</th>\n",
       "      <td>5519.217085</td>\n",
       "      <td>5520.507472</td>\n",
       "      <td>5523.934537</td>\n",
       "      <td>5513.883962</td>\n",
       "      <td>121.479160</td>\n",
       "    </tr>\n",
       "    <tr>\n",
       "      <th>min</th>\n",
       "      <td>6547.050000</td>\n",
       "      <td>6547.010000</td>\n",
       "      <td>6758.440000</td>\n",
       "      <td>6440.080000</td>\n",
       "      <td>0.000000</td>\n",
       "    </tr>\n",
       "    <tr>\n",
       "      <th>25%</th>\n",
       "      <td>12274.697500</td>\n",
       "      <td>12272.472500</td>\n",
       "      <td>12344.670000</td>\n",
       "      <td>12185.120000</td>\n",
       "      <td>86.642500</td>\n",
       "    </tr>\n",
       "    <tr>\n",
       "      <th>50%</th>\n",
       "      <td>16460.535000</td>\n",
       "      <td>16459.510000</td>\n",
       "      <td>16529.430000</td>\n",
       "      <td>16378.705000</td>\n",
       "      <td>131.060000</td>\n",
       "    </tr>\n",
       "    <tr>\n",
       "      <th>75%</th>\n",
       "      <td>20808.950000</td>\n",
       "      <td>20815.085000</td>\n",
       "      <td>20850.040000</td>\n",
       "      <td>20731.360000</td>\n",
       "      <td>244.907500</td>\n",
       "    </tr>\n",
       "    <tr>\n",
       "      <th>max</th>\n",
       "      <td>28645.260000</td>\n",
       "      <td>28675.340000</td>\n",
       "      <td>28701.660000</td>\n",
       "      <td>28608.980000</td>\n",
       "      <td>900.510000</td>\n",
       "    </tr>\n",
       "  </tbody>\n",
       "</table>\n",
       "</div>"
      ],
      "text/plain": [
       "              Price          Open          High           Low         Vol.\n",
       "count   2766.000000   2766.000000   2766.000000   2766.000000  2766.000000\n",
       "mean   16817.204516  16812.318735  16904.069855  16717.879740   165.163561\n",
       "std     5519.217085   5520.507472   5523.934537   5513.883962   121.479160\n",
       "min     6547.050000   6547.010000   6758.440000   6440.080000     0.000000\n",
       "25%    12274.697500  12272.472500  12344.670000  12185.120000    86.642500\n",
       "50%    16460.535000  16459.510000  16529.430000  16378.705000   131.060000\n",
       "75%    20808.950000  20815.085000  20850.040000  20731.360000   244.907500\n",
       "max    28645.260000  28675.340000  28701.660000  28608.980000   900.510000"
      ]
     },
     "execution_count": 12,
     "metadata": {},
     "output_type": "execute_result"
    }
   ],
   "source": [
    "# Pandas describe() is used to view some basic statistical details like percentile, mean, std etc \n",
    "Dow_Jones.describe()"
   ]
  },
  {
   "cell_type": "code",
   "execution_count": 13,
   "id": "e5d3a3a9",
   "metadata": {},
   "outputs": [
    {
     "data": {
      "text/html": [
       "<div>\n",
       "<style scoped>\n",
       "    .dataframe tbody tr th:only-of-type {\n",
       "        vertical-align: middle;\n",
       "    }\n",
       "\n",
       "    .dataframe tbody tr th {\n",
       "        vertical-align: top;\n",
       "    }\n",
       "\n",
       "    .dataframe thead th {\n",
       "        text-align: right;\n",
       "    }\n",
       "</style>\n",
       "<table border=\"1\" class=\"dataframe\">\n",
       "  <thead>\n",
       "    <tr style=\"text-align: right;\">\n",
       "      <th></th>\n",
       "      <th>Price</th>\n",
       "      <th>Open</th>\n",
       "      <th>High</th>\n",
       "      <th>Low</th>\n",
       "      <th>Vol.</th>\n",
       "    </tr>\n",
       "  </thead>\n",
       "  <tbody>\n",
       "    <tr>\n",
       "      <th>Price</th>\n",
       "      <td>1.000000</td>\n",
       "      <td>0.999680</td>\n",
       "      <td>0.999840</td>\n",
       "      <td>0.999865</td>\n",
       "      <td>0.666921</td>\n",
       "    </tr>\n",
       "    <tr>\n",
       "      <th>Open</th>\n",
       "      <td>0.999680</td>\n",
       "      <td>1.000000</td>\n",
       "      <td>0.999870</td>\n",
       "      <td>0.999793</td>\n",
       "      <td>0.668501</td>\n",
       "    </tr>\n",
       "    <tr>\n",
       "      <th>High</th>\n",
       "      <td>0.999840</td>\n",
       "      <td>0.999870</td>\n",
       "      <td>1.000000</td>\n",
       "      <td>0.999762</td>\n",
       "      <td>0.670363</td>\n",
       "    </tr>\n",
       "    <tr>\n",
       "      <th>Low</th>\n",
       "      <td>0.999865</td>\n",
       "      <td>0.999793</td>\n",
       "      <td>0.999762</td>\n",
       "      <td>1.000000</td>\n",
       "      <td>0.664709</td>\n",
       "    </tr>\n",
       "    <tr>\n",
       "      <th>Vol.</th>\n",
       "      <td>0.666921</td>\n",
       "      <td>0.668501</td>\n",
       "      <td>0.670363</td>\n",
       "      <td>0.664709</td>\n",
       "      <td>1.000000</td>\n",
       "    </tr>\n",
       "  </tbody>\n",
       "</table>\n",
       "</div>"
      ],
      "text/plain": [
       "          Price      Open      High       Low      Vol.\n",
       "Price  1.000000  0.999680  0.999840  0.999865  0.666921\n",
       "Open   0.999680  1.000000  0.999870  0.999793  0.668501\n",
       "High   0.999840  0.999870  1.000000  0.999762  0.670363\n",
       "Low    0.999865  0.999793  0.999762  1.000000  0.664709\n",
       "Vol.   0.666921  0.668501  0.670363  0.664709  1.000000"
      ]
     },
     "execution_count": 13,
     "metadata": {},
     "output_type": "execute_result"
    },
    {
     "data": {
      "image/png": "[encoded data removed]",
      "text/plain": [
       "<Figure size 576x432 with 2 Axes>"
      ]
     },
     "metadata": {
      "needs_background": "light"
     },
     "output_type": "display_data"
    }
   ],
   "source": [
    "Dow_Jones_correlation = Dow_Jones.corr()\n",
    "\n",
    "plt.figure(figsize=(8,6))\n",
    "sns.heatmap(Dow_Jones_correlation,annot = True,vmin =1,vmax=1,cmap ='GnBu_r')\n",
    "plt.title(\"Correlation Matrix of Dow_Jones Average Data\")\n",
    "Dow_Jones_correlation"
   ]
  },
  {
   "attachments": {
    "Dow_Jones.png": {
     "image/png": "[encoded data removed]"
    }
   },
   "cell_type": "markdown",
   "id": "b6c774ce",
   "metadata": {},
   "source": [
    "![Dow_Jones.png](attachment:Dow_Jones.png)"
   ]
  },
  {
   "cell_type": "code",
   "execution_count": 14,
   "id": "6b41e6ec",
   "metadata": {},
   "outputs": [
    {
     "data": {
      "image/png": "[encoded data removed]",
      "text/plain": [
       "<Figure size 1080x720 with 4 Axes>"
      ]
     },
     "metadata": {
      "needs_background": "light"
     },
     "output_type": "display_data"
    }
   ],
   "source": [
    "fig = plt.figure()\n",
    "\n",
    "ax1 = fig.add_subplot(2,2,1)\n",
    "ax2 = fig.add_subplot(2,2,2)\n",
    "ax3 = fig.add_subplot(2,2,3)\n",
    "ax4 = fig.add_subplot(2,2,4)\n",
    "\n",
    "# Price\n",
    "ax1.hist(Dow_Jones['Price'], color = 'grey')\n",
    "ax1.set_xlabel('Price')\n",
    "\n",
    "# Open\n",
    "ax2.hist(Dow_Jones['Open'], color = 'grey')\n",
    "ax2.set_xlabel('Open')\n",
    "\n",
    "# High\n",
    "ax3.hist(Dow_Jones['High'], color = 'grey')\n",
    "ax3.set_xlabel('High')\n",
    "\n",
    "# low\n",
    "ax4.hist(Dow_Jones['Open'], color = 'grey')\n",
    "ax4.set_xlabel('Low')\n",
    "\n",
    "fig.set_figheight(10)\n",
    "fig.set_figwidth(15)\n",
    "\n",
    "plt.show()"
   ]
  },
  {
   "cell_type": "code",
   "execution_count": 15,
   "id": "fdd6b63a",
   "metadata": {},
   "outputs": [
    {
     "data": {
      "text/plain": [
       "Text(0.5, 1.0, 'Relation between Price and open')"
      ]
     },
     "execution_count": 15,
     "metadata": {},
     "output_type": "execute_result"
    },
    {
     "data": {
      "image/png": "[encoded data removed]",
      "text/plain": [
       "<Figure size 360x360 with 1 Axes>"
      ]
     },
     "metadata": {
      "needs_background": "light"
     },
     "output_type": "display_data"
    }
   ],
   "source": [
    "sns.relplot(x = Dow_Jones['Price'], y = Dow_Jones['Open'], data=Dow_Jones, color = 'red')\n",
    "plt.title('Relation between Price and open')"
   ]
  },
  {
   "cell_type": "markdown",
   "id": "ca387b9f",
   "metadata": {},
   "source": [
    "## Model Prediction:"
   ]
  },
  {
   "cell_type": "markdown",
   "id": "ff57187d",
   "metadata": {},
   "source": [
    "### Naive Bayes Algorithm:"
   ]
  },
  {
   "cell_type": "markdown",
   "id": "d67ac98c",
   "metadata": {},
   "source": [
    "Naive Bayes is among one of the most simple and powerful algorithms for classification based on Bayes’ Theorem with an assumption of independence among predictors. \n",
    "\n",
    "There are two parts to this algorithm:\n",
    "\n",
    "1. Naive\n",
    "2. Bayes\n",
    "\n",
    "Bayes Theorem provides a way that we can calculate the probability of a piece of data belonging to a given class, given our prior knowledge. Bayes’ Theorem is stated as:\n",
    "\n",
    "```P(class|data) = (P(data|class) * P(class)) / P(data)```\n",
    "\n",
    "Where P(class|data) is the probability of class given the provided data."
   ]
  },
  {
   "cell_type": "markdown",
   "id": "00e86221",
   "metadata": {},
   "source": [
    "### Importing the required Libraries"
   ]
  },
  {
   "cell_type": "code",
   "execution_count": 16,
   "id": "d850db76",
   "metadata": {},
   "outputs": [],
   "source": [
    "#Import Gaussian Naive Bayes model\n",
    "from sklearn.naive_bayes import GaussianNB\n",
    "from sklearn.model_selection import train_test_split\n",
    "from sklearn.metrics import accuracy_score\n",
    "import warnings\n",
    "warnings.filterwarnings('ignore')"
   ]
  },
  {
   "cell_type": "code",
   "execution_count": 17,
   "id": "66ff2639",
   "metadata": {},
   "outputs": [
    {
     "data": {
      "text/html": [
       "<div>\n",
       "<style scoped>\n",
       "    .dataframe tbody tr th:only-of-type {\n",
       "        vertical-align: middle;\n",
       "    }\n",
       "\n",
       "    .dataframe tbody tr th {\n",
       "        vertical-align: top;\n",
       "    }\n",
       "\n",
       "    .dataframe thead th {\n",
       "        text-align: right;\n",
       "    }\n",
       "</style>\n",
       "<table border=\"1\" class=\"dataframe\">\n",
       "  <thead>\n",
       "    <tr style=\"text-align: right;\">\n",
       "      <th></th>\n",
       "      <th>Price</th>\n",
       "      <th>Open</th>\n",
       "      <th>High</th>\n",
       "      <th>Low</th>\n",
       "      <th>Vol.</th>\n",
       "      <th>Change %</th>\n",
       "    </tr>\n",
       "    <tr>\n",
       "      <th>Date</th>\n",
       "      <th></th>\n",
       "      <th></th>\n",
       "      <th></th>\n",
       "      <th></th>\n",
       "      <th></th>\n",
       "      <th></th>\n",
       "    </tr>\n",
       "  </thead>\n",
       "  <tbody>\n",
       "    <tr>\n",
       "      <th>2019-12-31</th>\n",
       "      <td>28538.44</td>\n",
       "      <td>28414.64</td>\n",
       "      <td>28547.35</td>\n",
       "      <td>28376.49</td>\n",
       "      <td>193.34</td>\n",
       "      <td>0.27%</td>\n",
       "    </tr>\n",
       "    <tr>\n",
       "      <th>2019-12-30</th>\n",
       "      <td>28462.14</td>\n",
       "      <td>28654.76</td>\n",
       "      <td>28664.69</td>\n",
       "      <td>28428.98</td>\n",
       "      <td>185.07</td>\n",
       "      <td>-0.64%</td>\n",
       "    </tr>\n",
       "    <tr>\n",
       "      <th>2019-12-27</th>\n",
       "      <td>28645.26</td>\n",
       "      <td>28675.34</td>\n",
       "      <td>28701.66</td>\n",
       "      <td>28608.98</td>\n",
       "      <td>184.93</td>\n",
       "      <td>0.08%</td>\n",
       "    </tr>\n",
       "    <tr>\n",
       "      <th>2019-12-26</th>\n",
       "      <td>28621.39</td>\n",
       "      <td>28539.46</td>\n",
       "      <td>28624.10</td>\n",
       "      <td>28535.15</td>\n",
       "      <td>155.97</td>\n",
       "      <td>0.37%</td>\n",
       "    </tr>\n",
       "    <tr>\n",
       "      <th>2019-12-24</th>\n",
       "      <td>28515.45</td>\n",
       "      <td>28572.57</td>\n",
       "      <td>28576.80</td>\n",
       "      <td>28503.21</td>\n",
       "      <td>95.29</td>\n",
       "      <td>-0.13%</td>\n",
       "    </tr>\n",
       "    <tr>\n",
       "      <th>...</th>\n",
       "      <td>...</td>\n",
       "      <td>...</td>\n",
       "      <td>...</td>\n",
       "      <td>...</td>\n",
       "      <td>...</td>\n",
       "      <td>...</td>\n",
       "    </tr>\n",
       "    <tr>\n",
       "      <th>2009-01-09</th>\n",
       "      <td>8599.18</td>\n",
       "      <td>8738.80</td>\n",
       "      <td>8800.45</td>\n",
       "      <td>8541.75</td>\n",
       "      <td>0.00</td>\n",
       "      <td>-1.64%</td>\n",
       "    </tr>\n",
       "    <tr>\n",
       "      <th>2009-01-08</th>\n",
       "      <td>8742.46</td>\n",
       "      <td>8769.94</td>\n",
       "      <td>8807.14</td>\n",
       "      <td>8593.52</td>\n",
       "      <td>0.00</td>\n",
       "      <td>-0.31%</td>\n",
       "    </tr>\n",
       "    <tr>\n",
       "      <th>2009-01-07</th>\n",
       "      <td>8769.70</td>\n",
       "      <td>8996.94</td>\n",
       "      <td>8996.94</td>\n",
       "      <td>8690.45</td>\n",
       "      <td>0.00</td>\n",
       "      <td>-2.72%</td>\n",
       "    </tr>\n",
       "    <tr>\n",
       "      <th>2009-01-06</th>\n",
       "      <td>9015.10</td>\n",
       "      <td>8954.57</td>\n",
       "      <td>9175.19</td>\n",
       "      <td>8868.07</td>\n",
       "      <td>0.00</td>\n",
       "      <td>0.69%</td>\n",
       "    </tr>\n",
       "    <tr>\n",
       "      <th>2009-01-05</th>\n",
       "      <td>8952.89</td>\n",
       "      <td>9027.13</td>\n",
       "      <td>9093.47</td>\n",
       "      <td>8841.70</td>\n",
       "      <td>0.00</td>\n",
       "      <td>-0.91%</td>\n",
       "    </tr>\n",
       "  </tbody>\n",
       "</table>\n",
       "<p>2766 rows × 6 columns</p>\n",
       "</div>"
      ],
      "text/plain": [
       "               Price      Open      High       Low    Vol. Change %\n",
       "Date                                                               \n",
       "2019-12-31  28538.44  28414.64  28547.35  28376.49  193.34    0.27%\n",
       "2019-12-30  28462.14  28654.76  28664.69  28428.98  185.07   -0.64%\n",
       "2019-12-27  28645.26  28675.34  28701.66  28608.98  184.93    0.08%\n",
       "2019-12-26  28621.39  28539.46  28624.10  28535.15  155.97    0.37%\n",
       "2019-12-24  28515.45  28572.57  28576.80  28503.21   95.29   -0.13%\n",
       "...              ...       ...       ...       ...     ...      ...\n",
       "2009-01-09   8599.18   8738.80   8800.45   8541.75    0.00   -1.64%\n",
       "2009-01-08   8742.46   8769.94   8807.14   8593.52    0.00   -0.31%\n",
       "2009-01-07   8769.70   8996.94   8996.94   8690.45    0.00   -2.72%\n",
       "2009-01-06   9015.10   8954.57   9175.19   8868.07    0.00    0.69%\n",
       "2009-01-05   8952.89   9027.13   9093.47   8841.70    0.00   -0.91%\n",
       "\n",
       "[2766 rows x 6 columns]"
      ]
     },
     "execution_count": 17,
     "metadata": {},
     "output_type": "execute_result"
    }
   ],
   "source": [
    "Dow_Jones"
   ]
  },
  {
   "cell_type": "markdown",
   "id": "7b0e9e80",
   "metadata": {},
   "source": [
    "The ```Dow_Jones['Change %']``` has the values in terms of percentage, so will be converting it and create a new feature called label:\n",
    "    \n",
    "   1. If the Price feature is ```greater``` than the Open feature, then will be labelling it as 1.\n",
    "   2. If the Price feature is ```smaller``` than the Open feature, then will be labelling it as 0.\n",
    "    "
   ]
  },
  {
   "cell_type": "code",
   "execution_count": 18,
   "id": "bdf46357",
   "metadata": {},
   "outputs": [],
   "source": [
    "Dow_Jones.loc[Dow_Jones['Price']>Dow_Jones['Open'],'Label'] = 1\n",
    "Dow_Jones.loc[Dow_Jones['Price']<Dow_Jones['Open'],'Label'] = 0"
   ]
  },
  {
   "cell_type": "code",
   "execution_count": 19,
   "id": "a6e8f50a",
   "metadata": {},
   "outputs": [
    {
     "data": {
      "text/html": [
       "<div>\n",
       "<style scoped>\n",
       "    .dataframe tbody tr th:only-of-type {\n",
       "        vertical-align: middle;\n",
       "    }\n",
       "\n",
       "    .dataframe tbody tr th {\n",
       "        vertical-align: top;\n",
       "    }\n",
       "\n",
       "    .dataframe thead th {\n",
       "        text-align: right;\n",
       "    }\n",
       "</style>\n",
       "<table border=\"1\" class=\"dataframe\">\n",
       "  <thead>\n",
       "    <tr style=\"text-align: right;\">\n",
       "      <th></th>\n",
       "      <th>Price</th>\n",
       "      <th>Open</th>\n",
       "      <th>High</th>\n",
       "      <th>Low</th>\n",
       "      <th>Vol.</th>\n",
       "      <th>Change %</th>\n",
       "      <th>Label</th>\n",
       "    </tr>\n",
       "    <tr>\n",
       "      <th>Date</th>\n",
       "      <th></th>\n",
       "      <th></th>\n",
       "      <th></th>\n",
       "      <th></th>\n",
       "      <th></th>\n",
       "      <th></th>\n",
       "      <th></th>\n",
       "    </tr>\n",
       "  </thead>\n",
       "  <tbody>\n",
       "    <tr>\n",
       "      <th>2019-12-31</th>\n",
       "      <td>28538.44</td>\n",
       "      <td>28414.64</td>\n",
       "      <td>28547.35</td>\n",
       "      <td>28376.49</td>\n",
       "      <td>193.34</td>\n",
       "      <td>0.27%</td>\n",
       "      <td>1.0</td>\n",
       "    </tr>\n",
       "    <tr>\n",
       "      <th>2019-12-30</th>\n",
       "      <td>28462.14</td>\n",
       "      <td>28654.76</td>\n",
       "      <td>28664.69</td>\n",
       "      <td>28428.98</td>\n",
       "      <td>185.07</td>\n",
       "      <td>-0.64%</td>\n",
       "      <td>0.0</td>\n",
       "    </tr>\n",
       "    <tr>\n",
       "      <th>2019-12-27</th>\n",
       "      <td>28645.26</td>\n",
       "      <td>28675.34</td>\n",
       "      <td>28701.66</td>\n",
       "      <td>28608.98</td>\n",
       "      <td>184.93</td>\n",
       "      <td>0.08%</td>\n",
       "      <td>0.0</td>\n",
       "    </tr>\n",
       "    <tr>\n",
       "      <th>2019-12-26</th>\n",
       "      <td>28621.39</td>\n",
       "      <td>28539.46</td>\n",
       "      <td>28624.10</td>\n",
       "      <td>28535.15</td>\n",
       "      <td>155.97</td>\n",
       "      <td>0.37%</td>\n",
       "      <td>1.0</td>\n",
       "    </tr>\n",
       "    <tr>\n",
       "      <th>2019-12-24</th>\n",
       "      <td>28515.45</td>\n",
       "      <td>28572.57</td>\n",
       "      <td>28576.80</td>\n",
       "      <td>28503.21</td>\n",
       "      <td>95.29</td>\n",
       "      <td>-0.13%</td>\n",
       "      <td>0.0</td>\n",
       "    </tr>\n",
       "    <tr>\n",
       "      <th>...</th>\n",
       "      <td>...</td>\n",
       "      <td>...</td>\n",
       "      <td>...</td>\n",
       "      <td>...</td>\n",
       "      <td>...</td>\n",
       "      <td>...</td>\n",
       "      <td>...</td>\n",
       "    </tr>\n",
       "    <tr>\n",
       "      <th>2009-01-09</th>\n",
       "      <td>8599.18</td>\n",
       "      <td>8738.80</td>\n",
       "      <td>8800.45</td>\n",
       "      <td>8541.75</td>\n",
       "      <td>0.00</td>\n",
       "      <td>-1.64%</td>\n",
       "      <td>0.0</td>\n",
       "    </tr>\n",
       "    <tr>\n",
       "      <th>2009-01-08</th>\n",
       "      <td>8742.46</td>\n",
       "      <td>8769.94</td>\n",
       "      <td>8807.14</td>\n",
       "      <td>8593.52</td>\n",
       "      <td>0.00</td>\n",
       "      <td>-0.31%</td>\n",
       "      <td>0.0</td>\n",
       "    </tr>\n",
       "    <tr>\n",
       "      <th>2009-01-07</th>\n",
       "      <td>8769.70</td>\n",
       "      <td>8996.94</td>\n",
       "      <td>8996.94</td>\n",
       "      <td>8690.45</td>\n",
       "      <td>0.00</td>\n",
       "      <td>-2.72%</td>\n",
       "      <td>0.0</td>\n",
       "    </tr>\n",
       "    <tr>\n",
       "      <th>2009-01-06</th>\n",
       "      <td>9015.10</td>\n",
       "      <td>8954.57</td>\n",
       "      <td>9175.19</td>\n",
       "      <td>8868.07</td>\n",
       "      <td>0.00</td>\n",
       "      <td>0.69%</td>\n",
       "      <td>1.0</td>\n",
       "    </tr>\n",
       "    <tr>\n",
       "      <th>2009-01-05</th>\n",
       "      <td>8952.89</td>\n",
       "      <td>9027.13</td>\n",
       "      <td>9093.47</td>\n",
       "      <td>8841.70</td>\n",
       "      <td>0.00</td>\n",
       "      <td>-0.91%</td>\n",
       "      <td>0.0</td>\n",
       "    </tr>\n",
       "  </tbody>\n",
       "</table>\n",
       "<p>2766 rows × 7 columns</p>\n",
       "</div>"
      ],
      "text/plain": [
       "               Price      Open      High       Low    Vol. Change %  Label\n",
       "Date                                                                      \n",
       "2019-12-31  28538.44  28414.64  28547.35  28376.49  193.34    0.27%    1.0\n",
       "2019-12-30  28462.14  28654.76  28664.69  28428.98  185.07   -0.64%    0.0\n",
       "2019-12-27  28645.26  28675.34  28701.66  28608.98  184.93    0.08%    0.0\n",
       "2019-12-26  28621.39  28539.46  28624.10  28535.15  155.97    0.37%    1.0\n",
       "2019-12-24  28515.45  28572.57  28576.80  28503.21   95.29   -0.13%    0.0\n",
       "...              ...       ...       ...       ...     ...      ...    ...\n",
       "2009-01-09   8599.18   8738.80   8800.45   8541.75    0.00   -1.64%    0.0\n",
       "2009-01-08   8742.46   8769.94   8807.14   8593.52    0.00   -0.31%    0.0\n",
       "2009-01-07   8769.70   8996.94   8996.94   8690.45    0.00   -2.72%    0.0\n",
       "2009-01-06   9015.10   8954.57   9175.19   8868.07    0.00    0.69%    1.0\n",
       "2009-01-05   8952.89   9027.13   9093.47   8841.70    0.00   -0.91%    0.0\n",
       "\n",
       "[2766 rows x 7 columns]"
      ]
     },
     "execution_count": 19,
     "metadata": {},
     "output_type": "execute_result"
    }
   ],
   "source": [
    "Dow_Jones"
   ]
  },
  {
   "cell_type": "code",
   "execution_count": 20,
   "id": "1b4b8222",
   "metadata": {},
   "outputs": [],
   "source": [
    "Dow_Jones.dropna(inplace=True)"
   ]
  },
  {
   "cell_type": "code",
   "execution_count": 21,
   "id": "482273b9",
   "metadata": {},
   "outputs": [],
   "source": [
    "# In this step, we assign the independent variable(X) and the dependent variable (y)\n",
    "\n",
    "# x = Dow_Jones['Open','Low','High','Vol']\n",
    "X = Dow_Jones[['Open','High','Low','Vol.']]\n",
    "\n",
    "# y = Dow_Jones['Label']\n",
    "y = Dow_Jones['Label']"
   ]
  },
  {
   "cell_type": "code",
   "execution_count": 22,
   "id": "93139b53",
   "metadata": {},
   "outputs": [
    {
     "name": "stdout",
     "output_type": "stream",
     "text": [
      "                Open      High       Low    Vol.\n",
      "Date                                            \n",
      "2019-12-31  28414.64  28547.35  28376.49  193.34\n",
      "2019-12-30  28654.76  28664.69  28428.98  185.07\n",
      "2019-12-27  28675.34  28701.66  28608.98  184.93\n",
      "2019-12-26  28539.46  28624.10  28535.15  155.97\n",
      "2019-12-24  28572.57  28576.80  28503.21   95.29\n",
      "...              ...       ...       ...     ...\n",
      "2009-01-09   8738.80   8800.45   8541.75    0.00\n",
      "2009-01-08   8769.94   8807.14   8593.52    0.00\n",
      "2009-01-07   8996.94   8996.94   8690.45    0.00\n",
      "2009-01-06   8954.57   9175.19   8868.07    0.00\n",
      "2009-01-05   9027.13   9093.47   8841.70    0.00\n",
      "\n",
      "[2765 rows x 4 columns]\n"
     ]
    }
   ],
   "source": [
    "# printing the X feature\n",
    "print(X)"
   ]
  },
  {
   "cell_type": "code",
   "execution_count": 23,
   "id": "7170a07e",
   "metadata": {},
   "outputs": [
    {
     "name": "stdout",
     "output_type": "stream",
     "text": [
      "Date\n",
      "2019-12-31    1.0\n",
      "2019-12-30    0.0\n",
      "2019-12-27    0.0\n",
      "2019-12-26    1.0\n",
      "2019-12-24    0.0\n",
      "             ... \n",
      "2009-01-09    0.0\n",
      "2009-01-08    0.0\n",
      "2009-01-07    0.0\n",
      "2009-01-06    1.0\n",
      "2009-01-05    0.0\n",
      "Name: Label, Length: 2765, dtype: float64\n"
     ]
    }
   ],
   "source": [
    "# printing the y feature\n",
    "print(y)"
   ]
  },
  {
   "cell_type": "code",
   "execution_count": 24,
   "id": "75379502",
   "metadata": {},
   "outputs": [
    {
     "data": {
      "text/plain": [
       "Open    0\n",
       "High    0\n",
       "Low     0\n",
       "Vol.    0\n",
       "dtype: int64"
      ]
     },
     "execution_count": 24,
     "metadata": {},
     "output_type": "execute_result"
    }
   ],
   "source": [
    "# Checking if there are any null values present \n",
    "X.isnull().sum()"
   ]
  },
  {
   "cell_type": "code",
   "execution_count": 25,
   "id": "2fd74b2f",
   "metadata": {},
   "outputs": [],
   "source": [
    "X.dropna(inplace=True)"
   ]
  },
  {
   "cell_type": "code",
   "execution_count": 26,
   "id": "626ce8c6",
   "metadata": {},
   "outputs": [
    {
     "data": {
      "text/html": [
       "<div>\n",
       "<style scoped>\n",
       "    .dataframe tbody tr th:only-of-type {\n",
       "        vertical-align: middle;\n",
       "    }\n",
       "\n",
       "    .dataframe tbody tr th {\n",
       "        vertical-align: top;\n",
       "    }\n",
       "\n",
       "    .dataframe thead th {\n",
       "        text-align: right;\n",
       "    }\n",
       "</style>\n",
       "<table border=\"1\" class=\"dataframe\">\n",
       "  <thead>\n",
       "    <tr style=\"text-align: right;\">\n",
       "      <th></th>\n",
       "      <th>Open</th>\n",
       "      <th>High</th>\n",
       "      <th>Low</th>\n",
       "      <th>Vol.</th>\n",
       "    </tr>\n",
       "    <tr>\n",
       "      <th>Date</th>\n",
       "      <th></th>\n",
       "      <th></th>\n",
       "      <th></th>\n",
       "      <th></th>\n",
       "    </tr>\n",
       "  </thead>\n",
       "  <tbody>\n",
       "    <tr>\n",
       "      <th>2019-12-31</th>\n",
       "      <td>28414.64</td>\n",
       "      <td>28547.35</td>\n",
       "      <td>28376.49</td>\n",
       "      <td>193.34</td>\n",
       "    </tr>\n",
       "    <tr>\n",
       "      <th>2019-12-30</th>\n",
       "      <td>28654.76</td>\n",
       "      <td>28664.69</td>\n",
       "      <td>28428.98</td>\n",
       "      <td>185.07</td>\n",
       "    </tr>\n",
       "    <tr>\n",
       "      <th>2019-12-27</th>\n",
       "      <td>28675.34</td>\n",
       "      <td>28701.66</td>\n",
       "      <td>28608.98</td>\n",
       "      <td>184.93</td>\n",
       "    </tr>\n",
       "    <tr>\n",
       "      <th>2019-12-26</th>\n",
       "      <td>28539.46</td>\n",
       "      <td>28624.10</td>\n",
       "      <td>28535.15</td>\n",
       "      <td>155.97</td>\n",
       "    </tr>\n",
       "    <tr>\n",
       "      <th>2019-12-24</th>\n",
       "      <td>28572.57</td>\n",
       "      <td>28576.80</td>\n",
       "      <td>28503.21</td>\n",
       "      <td>95.29</td>\n",
       "    </tr>\n",
       "    <tr>\n",
       "      <th>...</th>\n",
       "      <td>...</td>\n",
       "      <td>...</td>\n",
       "      <td>...</td>\n",
       "      <td>...</td>\n",
       "    </tr>\n",
       "    <tr>\n",
       "      <th>2009-01-09</th>\n",
       "      <td>8738.80</td>\n",
       "      <td>8800.45</td>\n",
       "      <td>8541.75</td>\n",
       "      <td>0.00</td>\n",
       "    </tr>\n",
       "    <tr>\n",
       "      <th>2009-01-08</th>\n",
       "      <td>8769.94</td>\n",
       "      <td>8807.14</td>\n",
       "      <td>8593.52</td>\n",
       "      <td>0.00</td>\n",
       "    </tr>\n",
       "    <tr>\n",
       "      <th>2009-01-07</th>\n",
       "      <td>8996.94</td>\n",
       "      <td>8996.94</td>\n",
       "      <td>8690.45</td>\n",
       "      <td>0.00</td>\n",
       "    </tr>\n",
       "    <tr>\n",
       "      <th>2009-01-06</th>\n",
       "      <td>8954.57</td>\n",
       "      <td>9175.19</td>\n",
       "      <td>8868.07</td>\n",
       "      <td>0.00</td>\n",
       "    </tr>\n",
       "    <tr>\n",
       "      <th>2009-01-05</th>\n",
       "      <td>9027.13</td>\n",
       "      <td>9093.47</td>\n",
       "      <td>8841.70</td>\n",
       "      <td>0.00</td>\n",
       "    </tr>\n",
       "  </tbody>\n",
       "</table>\n",
       "<p>2765 rows × 4 columns</p>\n",
       "</div>"
      ],
      "text/plain": [
       "                Open      High       Low    Vol.\n",
       "Date                                            \n",
       "2019-12-31  28414.64  28547.35  28376.49  193.34\n",
       "2019-12-30  28654.76  28664.69  28428.98  185.07\n",
       "2019-12-27  28675.34  28701.66  28608.98  184.93\n",
       "2019-12-26  28539.46  28624.10  28535.15  155.97\n",
       "2019-12-24  28572.57  28576.80  28503.21   95.29\n",
       "...              ...       ...       ...     ...\n",
       "2009-01-09   8738.80   8800.45   8541.75    0.00\n",
       "2009-01-08   8769.94   8807.14   8593.52    0.00\n",
       "2009-01-07   8996.94   8996.94   8690.45    0.00\n",
       "2009-01-06   8954.57   9175.19   8868.07    0.00\n",
       "2009-01-05   9027.13   9093.47   8841.70    0.00\n",
       "\n",
       "[2765 rows x 4 columns]"
      ]
     },
     "execution_count": 26,
     "metadata": {},
     "output_type": "execute_result"
    }
   ],
   "source": [
    "X"
   ]
  },
  {
   "cell_type": "code",
   "execution_count": 27,
   "id": "fe9ffd43",
   "metadata": {},
   "outputs": [
    {
     "data": {
      "text/plain": [
       "0"
      ]
     },
     "execution_count": 27,
     "metadata": {},
     "output_type": "execute_result"
    }
   ],
   "source": [
    "y.isnull().sum()"
   ]
  },
  {
   "cell_type": "code",
   "execution_count": 28,
   "id": "b1a31a24",
   "metadata": {},
   "outputs": [],
   "source": [
    "y.dropna(inplace=True)"
   ]
  },
  {
   "cell_type": "code",
   "execution_count": 29,
   "id": "3e8b32a3",
   "metadata": {},
   "outputs": [
    {
     "data": {
      "text/plain": [
       "Date\n",
       "2019-12-31    1.0\n",
       "2019-12-30    0.0\n",
       "2019-12-27    0.0\n",
       "2019-12-26    1.0\n",
       "2019-12-24    0.0\n",
       "             ... \n",
       "2009-01-09    0.0\n",
       "2009-01-08    0.0\n",
       "2009-01-07    0.0\n",
       "2009-01-06    1.0\n",
       "2009-01-05    0.0\n",
       "Name: Label, Length: 2765, dtype: float64"
      ]
     },
     "execution_count": 29,
     "metadata": {},
     "output_type": "execute_result"
    }
   ],
   "source": [
    "y"
   ]
  },
  {
   "cell_type": "code",
   "execution_count": 30,
   "id": "b82f3796",
   "metadata": {},
   "outputs": [],
   "source": [
    "X_train, X_test, y_train, y_test = train_test_split(X, y, test_size=0.2, random_state=0)"
   ]
  },
  {
   "cell_type": "code",
   "execution_count": 31,
   "id": "bc354701",
   "metadata": {},
   "outputs": [],
   "source": [
    "#Create a Gaussian Classifier\n",
    "model = GaussianNB()"
   ]
  },
  {
   "cell_type": "code",
   "execution_count": 32,
   "id": "cf75da09",
   "metadata": {},
   "outputs": [
    {
     "data": {
      "text/plain": [
       "GaussianNB()"
      ]
     },
     "execution_count": 32,
     "metadata": {},
     "output_type": "execute_result"
    }
   ],
   "source": [
    "model.fit(X_train,y_train)"
   ]
  },
  {
   "cell_type": "code",
   "execution_count": 35,
   "id": "a32bda9e",
   "metadata": {},
   "outputs": [],
   "source": [
    "Y_pred = model.predict(X_test)"
   ]
  },
  {
   "cell_type": "code",
   "execution_count": 36,
   "id": "a8564478",
   "metadata": {},
   "outputs": [
    {
     "name": "stdout",
     "output_type": "stream",
     "text": [
      "Mean Absolute Error : 0.45207956600361665\n",
      "Mean Squared Error : 0.45207956600361665\n",
      "Root Mean Squared Error : 0.6723686236013818\n"
     ]
    }
   ],
   "source": [
    "#Choice of metrics influences how the performance of machine learning algorithms is measured and compared.\n",
    "from sklearn import metrics\n",
    "\n",
    "# calculating the mean absolute error\n",
    "print('Mean Absolute Error :', metrics.mean_absolute_error(y_test, Y_pred))\n",
    "\n",
    "# calculating the mean squared error\n",
    "print('Mean Squared Error :', metrics.mean_squared_error(y_test, Y_pred))\n",
    "\n",
    "# calculating the root mean squared error\n",
    "print('Root Mean Squared Error :', np.sqrt(metrics.mean_squared_error(y_test, Y_pred)))"
   ]
  },
  {
   "cell_type": "code",
   "execution_count": 37,
   "id": "7b663051",
   "metadata": {},
   "outputs": [
    {
     "name": "stdout",
     "output_type": "stream",
     "text": [
      "Mean Absolute Error: 0.45 degrees.\n",
      "Accuracy: -inf %.\n"
     ]
    }
   ],
   "source": [
    "# Calculate the absolute errors\n",
    "errors = abs(Y_pred - y_test)\n",
    "# Print out the mean absolute error (mae)\n",
    "print('Mean Absolute Error:', round(np.mean(errors), 2), 'degrees.')\n",
    "\n",
    "# Calculate mean absolute percentage error (MAPE)\n",
    "mape = 100 * (errors / y_test)\n",
    "\n",
    "# Calculate and display accuracy\n",
    "accuracy= 100 - np.mean(mape)\n",
    "print('Accuracy:', round(accuracy, 2), '%.')"
   ]
  },
  {
   "cell_type": "code",
   "execution_count": 38,
   "id": "218ca03f",
   "metadata": {},
   "outputs": [
    {
     "data": {
      "text/plain": [
       "-0.8238305057914042"
      ]
     },
     "execution_count": 38,
     "metadata": {},
     "output_type": "execute_result"
    }
   ],
   "source": [
    "from sklearn.metrics import r2_score\n",
    "r2_score(y_test, Y_pred)"
   ]
  },
  {
   "cell_type": "code",
   "execution_count": 39,
   "id": "bb81743e",
   "metadata": {},
   "outputs": [
    {
     "data": {
      "text/plain": [
       "0.5479204339963833"
      ]
     },
     "execution_count": 39,
     "metadata": {},
     "output_type": "execute_result"
    }
   ],
   "source": [
    "from sklearn.metrics import accuracy_score\n",
    "accuracy_score(y_test,Y_pred)"
   ]
  },
  {
   "cell_type": "markdown",
   "id": "96783e1c",
   "metadata": {},
   "source": [
    "Using the ```Navie Bayes Algorithm``` we have achieved an accuracy of approximately 55% which is not satisfying. "
   ]
  },
  {
   "cell_type": "markdown",
   "id": "06bd0a87",
   "metadata": {},
   "source": [
    "### Comparing the  Actual values vs Predicted Values"
   ]
  },
  {
   "cell_type": "code",
   "execution_count": 40,
   "id": "eab9f570",
   "metadata": {},
   "outputs": [
    {
     "data": {
      "text/html": [
       "<div>\n",
       "<style scoped>\n",
       "    .dataframe tbody tr th:only-of-type {\n",
       "        vertical-align: middle;\n",
       "    }\n",
       "\n",
       "    .dataframe tbody tr th {\n",
       "        vertical-align: top;\n",
       "    }\n",
       "\n",
       "    .dataframe thead th {\n",
       "        text-align: right;\n",
       "    }\n",
       "</style>\n",
       "<table border=\"1\" class=\"dataframe\">\n",
       "  <thead>\n",
       "    <tr style=\"text-align: right;\">\n",
       "      <th></th>\n",
       "      <th>Actual</th>\n",
       "      <th>Predicted</th>\n",
       "    </tr>\n",
       "  </thead>\n",
       "  <tbody>\n",
       "    <tr>\n",
       "      <th>0</th>\n",
       "      <td>1.0</td>\n",
       "      <td>1.0</td>\n",
       "    </tr>\n",
       "    <tr>\n",
       "      <th>1</th>\n",
       "      <td>0.0</td>\n",
       "      <td>1.0</td>\n",
       "    </tr>\n",
       "    <tr>\n",
       "      <th>2</th>\n",
       "      <td>1.0</td>\n",
       "      <td>1.0</td>\n",
       "    </tr>\n",
       "    <tr>\n",
       "      <th>3</th>\n",
       "      <td>1.0</td>\n",
       "      <td>1.0</td>\n",
       "    </tr>\n",
       "    <tr>\n",
       "      <th>4</th>\n",
       "      <td>1.0</td>\n",
       "      <td>1.0</td>\n",
       "    </tr>\n",
       "    <tr>\n",
       "      <th>...</th>\n",
       "      <td>...</td>\n",
       "      <td>...</td>\n",
       "    </tr>\n",
       "    <tr>\n",
       "      <th>548</th>\n",
       "      <td>1.0</td>\n",
       "      <td>1.0</td>\n",
       "    </tr>\n",
       "    <tr>\n",
       "      <th>549</th>\n",
       "      <td>1.0</td>\n",
       "      <td>1.0</td>\n",
       "    </tr>\n",
       "    <tr>\n",
       "      <th>550</th>\n",
       "      <td>0.0</td>\n",
       "      <td>1.0</td>\n",
       "    </tr>\n",
       "    <tr>\n",
       "      <th>551</th>\n",
       "      <td>0.0</td>\n",
       "      <td>1.0</td>\n",
       "    </tr>\n",
       "    <tr>\n",
       "      <th>552</th>\n",
       "      <td>1.0</td>\n",
       "      <td>1.0</td>\n",
       "    </tr>\n",
       "  </tbody>\n",
       "</table>\n",
       "<p>553 rows × 2 columns</p>\n",
       "</div>"
      ],
      "text/plain": [
       "     Actual  Predicted\n",
       "0       1.0        1.0\n",
       "1       0.0        1.0\n",
       "2       1.0        1.0\n",
       "3       1.0        1.0\n",
       "4       1.0        1.0\n",
       "..      ...        ...\n",
       "548     1.0        1.0\n",
       "549     1.0        1.0\n",
       "550     0.0        1.0\n",
       "551     0.0        1.0\n",
       "552     1.0        1.0\n",
       "\n",
       "[553 rows x 2 columns]"
      ]
     },
     "execution_count": 40,
     "metadata": {},
     "output_type": "execute_result"
    }
   ],
   "source": [
    "result = pd.DataFrame({'Actual' : y_test , 'Predicted' : \n",
    "                       Y_pred}).reset_index()[['Actual' , 'Predicted']]\n",
    "result"
   ]
  },
  {
   "cell_type": "code",
   "execution_count": 41,
   "id": "b9073e06",
   "metadata": {},
   "outputs": [
    {
     "data": {
      "image/png": "[encoded data removed]",
      "text/plain": [
       "<Figure size 720x360 with 1 Axes>"
      ]
     },
     "metadata": {
      "needs_background": "light"
     },
     "output_type": "display_data"
    }
   ],
   "source": [
    "# plotting a distrubution plot for comparing the actual and the predicted values\n",
    "\n",
    "plt.figure(figsize=(10, 5))\n",
    "ax = sns.distplot(y, hist=False, bins=100, color=\"red\", label ='Actual Value')\n",
    "sns.distplot(Y_pred, hist=False, bins=100, color=\"blue\", label ='Predicted Values' , ax=ax)\n",
    "plt.xlabel('Price')\n",
    "plt.ylabel('count')\n",
    "plt.title('Actual vs Predicted Values of the price')\n",
    "plt.legend()\n",
    "plt.show()\n",
    "plt.close()"
   ]
  },
  {
   "cell_type": "markdown",
   "id": "16da899c",
   "metadata": {},
   "source": [
    "#### Conclusion:\n",
    "\n",
    "This complete notebook represents an Exploratory Data Analysis (EDA) process to show broad market price patterns. We have dealt with the  data ```Dow Jones Industrial Average Historical Data```. The purpose of this study is to analyze the dataset and obtain important insights form it. As visual representations are flexible and easy to understand, the results or outputs produced in the form of graphs can help people comprehend the current situation insights easily. The dataset used may not be an updated version; hence the inferences may vary from time to time as graphs can be generated as the data increases. As the amount of data increases, the trends may change and lead to different inferences and solutions. As the data was insufficient, the accuracy of the model was not upto the mark. We can use Support Vector Machine Algorithm, K-Nearest Neighbor algorithm as the accuracy of the Naive Bayes model was not Satisfactory. So we further need to decide to choose any other  model which provides better accuracy."
   ]
  }
 ],
 "metadata": {
  "kernelspec": {
   "display_name": "Python 3",
   "language": "python",
   "name": "python3"
  },
  "language_info": {
   "codemirror_mode": {
    "name": "ipython",
    "version": 3
   },
   "file_extension": ".py",
   "mimetype": "text/x-python",
   "name": "python",
   "nbconvert_exporter": "python",
   "pygments_lexer": "ipython3",
   "version": "3.8.8"
  }
 },
 "nbformat": 4,
 "nbformat_minor": 5
}
